{
  "cells": [
    {
      "cell_type": "markdown",
      "metadata": {
        "id": "view-in-github",
        "colab_type": "text"
      },
      "source": [
        "<a href=\"https://colab.research.google.com/github/abdurrahmanbulut/song-popularity-prediction-ML/blob/main/main.ipynb\" target=\"_parent\"><img src=\"https://colab.research.google.com/assets/colab-badge.svg\" alt=\"Open In Colab\"/></a>"
      ]
    },
    {
      "cell_type": "markdown",
      "source": [
        "# **Import dataset**"
      ],
      "metadata": {
        "id": "BUYG8D-isF5T"
      }
    },
    {
      "cell_type": "code",
      "execution_count": 1,
      "metadata": {
        "colab": {
          "base_uri": "https://localhost:8080/"
        },
        "id": "K4VwWENjTctV",
        "outputId": "33116443-1602-4b03-c761-718b99b291ad"
      },
      "outputs": [
        {
          "output_type": "stream",
          "name": "stdout",
          "text": [
            "Mounted at /content/drive\n"
          ]
        }
      ],
      "source": [
        "from google.colab import drive\n",
        "drive.mount('/content/drive')"
      ]
    },
    {
      "cell_type": "code",
      "execution_count": 2,
      "metadata": {
        "id": "kpPse3sKI6y_"
      },
      "outputs": [],
      "source": [
        "import numpy as np\n",
        "import pandas as pd\n",
        "import matplotlib.pyplot as plt\n",
        "from scipy import stats\n",
        "\n",
        "import seaborn as sns\n",
        "sns.set_style('darkgrid')\n",
        "\n",
        "from sklearn.preprocessing import StandardScaler\n",
        "from sklearn.model_selection import train_test_split\n",
        "\n",
        "from sklearn.linear_model import  LinearRegression"
      ]
    },
    {
      "cell_type": "code",
      "source": [
        "track = pd.read_csv('./drive/MyDrive/colab/data/tracks.csv')"
      ],
      "metadata": {
        "id": "HxvQCvvJRloo"
      },
      "execution_count": 3,
      "outputs": []
    },
    {
      "cell_type": "code",
      "source": [
        "track.info()"
      ],
      "metadata": {
        "colab": {
          "base_uri": "https://localhost:8080/"
        },
        "id": "4sC3Xvmgc8CS",
        "outputId": "c93d973b-0ebb-4688-8266-d96654650efa"
      },
      "execution_count": 4,
      "outputs": [
        {
          "output_type": "stream",
          "name": "stdout",
          "text": [
            "<class 'pandas.core.frame.DataFrame'>\n",
            "RangeIndex: 586672 entries, 0 to 586671\n",
            "Data columns (total 20 columns):\n",
            " #   Column            Non-Null Count   Dtype  \n",
            "---  ------            --------------   -----  \n",
            " 0   id                586672 non-null  object \n",
            " 1   name              586601 non-null  object \n",
            " 2   popularity        586672 non-null  int64  \n",
            " 3   duration_ms       586672 non-null  int64  \n",
            " 4   explicit          586672 non-null  int64  \n",
            " 5   artists           586672 non-null  object \n",
            " 6   id_artists        586672 non-null  object \n",
            " 7   release_date      586672 non-null  object \n",
            " 8   danceability      586672 non-null  float64\n",
            " 9   energy            586672 non-null  float64\n",
            " 10  key               586672 non-null  int64  \n",
            " 11  loudness          586672 non-null  float64\n",
            " 12  mode              586672 non-null  int64  \n",
            " 13  speechiness       586672 non-null  float64\n",
            " 14  acousticness      586672 non-null  float64\n",
            " 15  instrumentalness  586672 non-null  float64\n",
            " 16  liveness          586672 non-null  float64\n",
            " 17  valence           586672 non-null  float64\n",
            " 18  tempo             586672 non-null  float64\n",
            " 19  time_signature    586672 non-null  int64  \n",
            "dtypes: float64(9), int64(6), object(5)\n",
            "memory usage: 89.5+ MB\n"
          ]
        }
      ]
    },
    {
      "cell_type": "code",
      "source": [
        "track.head()"
      ],
      "metadata": {
        "colab": {
          "base_uri": "https://localhost:8080/",
          "height": 374
        },
        "id": "2GZy0Y9dSnWW",
        "outputId": "872341cc-262c-4fc0-fb3f-e0d2145ca5e0"
      },
      "execution_count": 5,
      "outputs": [
        {
          "output_type": "execute_result",
          "data": {
            "text/plain": [
              "                       id                                 name  popularity  \\\n",
              "0  35iwgR4jXetI318WEWsa1Q                                Carve           6   \n",
              "1  021ht4sdgPcrDgSk7JTbKY  Capítulo 2.16 - Banquero Anarquista           0   \n",
              "2  07A5yehtSnoedViJAZkNnc   Vivo para Quererte - Remasterizado           0   \n",
              "3  08FmqUhxtyLTn6pAh6bk45        El Prisionero - Remasterizado           0   \n",
              "4  08y9GfoqCWfOGsKdwojr5e                  Lady of the Evening           0   \n",
              "\n",
              "   duration_ms  explicit              artists                  id_artists  \\\n",
              "0       126903         0              ['Uli']  ['45tIt06XoI0Iio4LBEVpls']   \n",
              "1        98200         0  ['Fernando Pessoa']  ['14jtPCOoNZwquk5wd9DxrY']   \n",
              "2       181640         0  ['Ignacio Corsini']  ['5LiOoJbxVSAMkBS2fUm3X2']   \n",
              "3       176907         0  ['Ignacio Corsini']  ['5LiOoJbxVSAMkBS2fUm3X2']   \n",
              "4       163080         0      ['Dick Haymes']  ['3BiJGZsyX9sJchTqcSA7Su']   \n",
              "\n",
              "  release_date  danceability  energy  key  loudness  mode  speechiness  \\\n",
              "0   1922-02-22         0.645  0.4450    0   -13.338     1       0.4510   \n",
              "1   1922-06-01         0.695  0.2630    0   -22.136     1       0.9570   \n",
              "2   1922-03-21         0.434  0.1770    1   -21.180     1       0.0512   \n",
              "3   1922-03-21         0.321  0.0946    7   -27.961     1       0.0504   \n",
              "4         1922         0.402  0.1580    3   -16.900     0       0.0390   \n",
              "\n",
              "   acousticness  instrumentalness  liveness  valence    tempo  time_signature  \n",
              "0         0.674            0.7440     0.151    0.127  104.851               3  \n",
              "1         0.797            0.0000     0.148    0.655  102.009               1  \n",
              "2         0.994            0.0218     0.212    0.457  130.418               5  \n",
              "3         0.995            0.9180     0.104    0.397  169.980               3  \n",
              "4         0.989            0.1300     0.311    0.196  103.220               4  "
            ],
            "text/html": [
              "\n",
              "  <div id=\"df-a3c9a255-d917-4b27-974f-fdc9c86f97f0\">\n",
              "    <div class=\"colab-df-container\">\n",
              "      <div>\n",
              "<style scoped>\n",
              "    .dataframe tbody tr th:only-of-type {\n",
              "        vertical-align: middle;\n",
              "    }\n",
              "\n",
              "    .dataframe tbody tr th {\n",
              "        vertical-align: top;\n",
              "    }\n",
              "\n",
              "    .dataframe thead th {\n",
              "        text-align: right;\n",
              "    }\n",
              "</style>\n",
              "<table border=\"1\" class=\"dataframe\">\n",
              "  <thead>\n",
              "    <tr style=\"text-align: right;\">\n",
              "      <th></th>\n",
              "      <th>id</th>\n",
              "      <th>name</th>\n",
              "      <th>popularity</th>\n",
              "      <th>duration_ms</th>\n",
              "      <th>explicit</th>\n",
              "      <th>artists</th>\n",
              "      <th>id_artists</th>\n",
              "      <th>release_date</th>\n",
              "      <th>danceability</th>\n",
              "      <th>energy</th>\n",
              "      <th>key</th>\n",
              "      <th>loudness</th>\n",
              "      <th>mode</th>\n",
              "      <th>speechiness</th>\n",
              "      <th>acousticness</th>\n",
              "      <th>instrumentalness</th>\n",
              "      <th>liveness</th>\n",
              "      <th>valence</th>\n",
              "      <th>tempo</th>\n",
              "      <th>time_signature</th>\n",
              "    </tr>\n",
              "  </thead>\n",
              "  <tbody>\n",
              "    <tr>\n",
              "      <th>0</th>\n",
              "      <td>35iwgR4jXetI318WEWsa1Q</td>\n",
              "      <td>Carve</td>\n",
              "      <td>6</td>\n",
              "      <td>126903</td>\n",
              "      <td>0</td>\n",
              "      <td>['Uli']</td>\n",
              "      <td>['45tIt06XoI0Iio4LBEVpls']</td>\n",
              "      <td>1922-02-22</td>\n",
              "      <td>0.645</td>\n",
              "      <td>0.4450</td>\n",
              "      <td>0</td>\n",
              "      <td>-13.338</td>\n",
              "      <td>1</td>\n",
              "      <td>0.4510</td>\n",
              "      <td>0.674</td>\n",
              "      <td>0.7440</td>\n",
              "      <td>0.151</td>\n",
              "      <td>0.127</td>\n",
              "      <td>104.851</td>\n",
              "      <td>3</td>\n",
              "    </tr>\n",
              "    <tr>\n",
              "      <th>1</th>\n",
              "      <td>021ht4sdgPcrDgSk7JTbKY</td>\n",
              "      <td>Capítulo 2.16 - Banquero Anarquista</td>\n",
              "      <td>0</td>\n",
              "      <td>98200</td>\n",
              "      <td>0</td>\n",
              "      <td>['Fernando Pessoa']</td>\n",
              "      <td>['14jtPCOoNZwquk5wd9DxrY']</td>\n",
              "      <td>1922-06-01</td>\n",
              "      <td>0.695</td>\n",
              "      <td>0.2630</td>\n",
              "      <td>0</td>\n",
              "      <td>-22.136</td>\n",
              "      <td>1</td>\n",
              "      <td>0.9570</td>\n",
              "      <td>0.797</td>\n",
              "      <td>0.0000</td>\n",
              "      <td>0.148</td>\n",
              "      <td>0.655</td>\n",
              "      <td>102.009</td>\n",
              "      <td>1</td>\n",
              "    </tr>\n",
              "    <tr>\n",
              "      <th>2</th>\n",
              "      <td>07A5yehtSnoedViJAZkNnc</td>\n",
              "      <td>Vivo para Quererte - Remasterizado</td>\n",
              "      <td>0</td>\n",
              "      <td>181640</td>\n",
              "      <td>0</td>\n",
              "      <td>['Ignacio Corsini']</td>\n",
              "      <td>['5LiOoJbxVSAMkBS2fUm3X2']</td>\n",
              "      <td>1922-03-21</td>\n",
              "      <td>0.434</td>\n",
              "      <td>0.1770</td>\n",
              "      <td>1</td>\n",
              "      <td>-21.180</td>\n",
              "      <td>1</td>\n",
              "      <td>0.0512</td>\n",
              "      <td>0.994</td>\n",
              "      <td>0.0218</td>\n",
              "      <td>0.212</td>\n",
              "      <td>0.457</td>\n",
              "      <td>130.418</td>\n",
              "      <td>5</td>\n",
              "    </tr>\n",
              "    <tr>\n",
              "      <th>3</th>\n",
              "      <td>08FmqUhxtyLTn6pAh6bk45</td>\n",
              "      <td>El Prisionero - Remasterizado</td>\n",
              "      <td>0</td>\n",
              "      <td>176907</td>\n",
              "      <td>0</td>\n",
              "      <td>['Ignacio Corsini']</td>\n",
              "      <td>['5LiOoJbxVSAMkBS2fUm3X2']</td>\n",
              "      <td>1922-03-21</td>\n",
              "      <td>0.321</td>\n",
              "      <td>0.0946</td>\n",
              "      <td>7</td>\n",
              "      <td>-27.961</td>\n",
              "      <td>1</td>\n",
              "      <td>0.0504</td>\n",
              "      <td>0.995</td>\n",
              "      <td>0.9180</td>\n",
              "      <td>0.104</td>\n",
              "      <td>0.397</td>\n",
              "      <td>169.980</td>\n",
              "      <td>3</td>\n",
              "    </tr>\n",
              "    <tr>\n",
              "      <th>4</th>\n",
              "      <td>08y9GfoqCWfOGsKdwojr5e</td>\n",
              "      <td>Lady of the Evening</td>\n",
              "      <td>0</td>\n",
              "      <td>163080</td>\n",
              "      <td>0</td>\n",
              "      <td>['Dick Haymes']</td>\n",
              "      <td>['3BiJGZsyX9sJchTqcSA7Su']</td>\n",
              "      <td>1922</td>\n",
              "      <td>0.402</td>\n",
              "      <td>0.1580</td>\n",
              "      <td>3</td>\n",
              "      <td>-16.900</td>\n",
              "      <td>0</td>\n",
              "      <td>0.0390</td>\n",
              "      <td>0.989</td>\n",
              "      <td>0.1300</td>\n",
              "      <td>0.311</td>\n",
              "      <td>0.196</td>\n",
              "      <td>103.220</td>\n",
              "      <td>4</td>\n",
              "    </tr>\n",
              "  </tbody>\n",
              "</table>\n",
              "</div>\n",
              "      <button class=\"colab-df-convert\" onclick=\"convertToInteractive('df-a3c9a255-d917-4b27-974f-fdc9c86f97f0')\"\n",
              "              title=\"Convert this dataframe to an interactive table.\"\n",
              "              style=\"display:none;\">\n",
              "        \n",
              "  <svg xmlns=\"http://www.w3.org/2000/svg\" height=\"24px\"viewBox=\"0 0 24 24\"\n",
              "       width=\"24px\">\n",
              "    <path d=\"M0 0h24v24H0V0z\" fill=\"none\"/>\n",
              "    <path d=\"M18.56 5.44l.94 2.06.94-2.06 2.06-.94-2.06-.94-.94-2.06-.94 2.06-2.06.94zm-11 1L8.5 8.5l.94-2.06 2.06-.94-2.06-.94L8.5 2.5l-.94 2.06-2.06.94zm10 10l.94 2.06.94-2.06 2.06-.94-2.06-.94-.94-2.06-.94 2.06-2.06.94z\"/><path d=\"M17.41 7.96l-1.37-1.37c-.4-.4-.92-.59-1.43-.59-.52 0-1.04.2-1.43.59L10.3 9.45l-7.72 7.72c-.78.78-.78 2.05 0 2.83L4 21.41c.39.39.9.59 1.41.59.51 0 1.02-.2 1.41-.59l7.78-7.78 2.81-2.81c.8-.78.8-2.07 0-2.86zM5.41 20L4 18.59l7.72-7.72 1.47 1.35L5.41 20z\"/>\n",
              "  </svg>\n",
              "      </button>\n",
              "      \n",
              "  <style>\n",
              "    .colab-df-container {\n",
              "      display:flex;\n",
              "      flex-wrap:wrap;\n",
              "      gap: 12px;\n",
              "    }\n",
              "\n",
              "    .colab-df-convert {\n",
              "      background-color: #E8F0FE;\n",
              "      border: none;\n",
              "      border-radius: 50%;\n",
              "      cursor: pointer;\n",
              "      display: none;\n",
              "      fill: #1967D2;\n",
              "      height: 32px;\n",
              "      padding: 0 0 0 0;\n",
              "      width: 32px;\n",
              "    }\n",
              "\n",
              "    .colab-df-convert:hover {\n",
              "      background-color: #E2EBFA;\n",
              "      box-shadow: 0px 1px 2px rgba(60, 64, 67, 0.3), 0px 1px 3px 1px rgba(60, 64, 67, 0.15);\n",
              "      fill: #174EA6;\n",
              "    }\n",
              "\n",
              "    [theme=dark] .colab-df-convert {\n",
              "      background-color: #3B4455;\n",
              "      fill: #D2E3FC;\n",
              "    }\n",
              "\n",
              "    [theme=dark] .colab-df-convert:hover {\n",
              "      background-color: #434B5C;\n",
              "      box-shadow: 0px 1px 3px 1px rgba(0, 0, 0, 0.15);\n",
              "      filter: drop-shadow(0px 1px 2px rgba(0, 0, 0, 0.3));\n",
              "      fill: #FFFFFF;\n",
              "    }\n",
              "  </style>\n",
              "\n",
              "      <script>\n",
              "        const buttonEl =\n",
              "          document.querySelector('#df-a3c9a255-d917-4b27-974f-fdc9c86f97f0 button.colab-df-convert');\n",
              "        buttonEl.style.display =\n",
              "          google.colab.kernel.accessAllowed ? 'block' : 'none';\n",
              "\n",
              "        async function convertToInteractive(key) {\n",
              "          const element = document.querySelector('#df-a3c9a255-d917-4b27-974f-fdc9c86f97f0');\n",
              "          const dataTable =\n",
              "            await google.colab.kernel.invokeFunction('convertToInteractive',\n",
              "                                                     [key], {});\n",
              "          if (!dataTable) return;\n",
              "\n",
              "          const docLinkHtml = 'Like what you see? Visit the ' +\n",
              "            '<a target=\"_blank\" href=https://colab.research.google.com/notebooks/data_table.ipynb>data table notebook</a>'\n",
              "            + ' to learn more about interactive tables.';\n",
              "          element.innerHTML = '';\n",
              "          dataTable['output_type'] = 'display_data';\n",
              "          await google.colab.output.renderOutput(dataTable, element);\n",
              "          const docLink = document.createElement('div');\n",
              "          docLink.innerHTML = docLinkHtml;\n",
              "          element.appendChild(docLink);\n",
              "        }\n",
              "      </script>\n",
              "    </div>\n",
              "  </div>\n",
              "  "
            ]
          },
          "metadata": {},
          "execution_count": 5
        }
      ]
    },
    {
      "cell_type": "markdown",
      "metadata": {
        "id": "DcMvdVdyI6zI"
      },
      "source": [
        "# **Feature** inceleme"
      ]
    },
    {
      "cell_type": "markdown",
      "source": [
        "popülerlik inceleme"
      ],
      "metadata": {
        "id": "oMWOUMdsr4io"
      }
    },
    {
      "cell_type": "code",
      "execution_count": 405,
      "metadata": {
        "colab": {
          "base_uri": "https://localhost:8080/"
        },
        "id": "7sF5lQInI6zK",
        "outputId": "ccb5a46f-b154-429b-e7e8-e18fa8675611"
      },
      "outputs": [
        {
          "output_type": "execute_result",
          "data": {
            "text/plain": [
              "0      44690\n",
              "35     12231\n",
              "23     12139\n",
              "1      12024\n",
              "36     11879\n",
              "       ...  \n",
              "93         2\n",
              "95         1\n",
              "100        1\n",
              "99         1\n",
              "98         1\n",
              "Name: popularity, Length: 101, dtype: int64"
            ]
          },
          "metadata": {},
          "execution_count": 405
        }
      ],
      "source": [
        "track.popularity.value_counts()"
      ]
    },
    {
      "cell_type": "code",
      "execution_count": 406,
      "metadata": {
        "colab": {
          "base_uri": "https://localhost:8080/",
          "height": 386
        },
        "id": "m6VqUvjGI6zL",
        "outputId": "b226fd1a-4dc2-4d00-d7d0-2c98bbee54d4"
      },
      "outputs": [
        {
          "output_type": "execute_result",
          "data": {
            "text/plain": [
              "<seaborn.axisgrid.FacetGrid at 0x7fc95012aa60>"
            ]
          },
          "metadata": {},
          "execution_count": 406
        },
        {
          "output_type": "display_data",
          "data": {
            "text/plain": [
              "<Figure size 360x360 with 1 Axes>"
            ],
            "image/png": "[encoded data removed]"
          },
          "metadata": {}
        }
      ],
      "source": [
        "sns.displot(track.popularity, color=\"b\", bins=20)"
      ]
    },
    {
      "cell_type": "code",
      "source": [
        "sns.displot(track.popularity, color=\"b\", bins=20)"
      ],
      "metadata": {
        "colab": {
          "base_uri": "https://localhost:8080/",
          "height": 386
        },
        "id": "PUn4wen5fzig",
        "outputId": "765327d9-5626-4cc1-e255-72ceb6a4df5e"
      },
      "execution_count": 407,
      "outputs": [
        {
          "output_type": "execute_result",
          "data": {
            "text/plain": [
              "<seaborn.axisgrid.FacetGrid at 0x7fc94f960760>"
            ]
          },
          "metadata": {},
          "execution_count": 407
        },
        {
          "output_type": "display_data",
          "data": {
            "text/plain": [
              "<Figure size 360x360 with 1 Axes>"
            ],
            "image/png": "[encoded data removed]"
          },
          "metadata": {}
        }
      ]
    },
    {
      "cell_type": "markdown",
      "metadata": {
        "id": "g5GoK9b7I6zP"
      },
      "source": [
        "Duration_ms inceleme"
      ]
    },
    {
      "cell_type": "code",
      "execution_count": 408,
      "metadata": {
        "colab": {
          "base_uri": "https://localhost:8080/",
          "height": 386
        },
        "id": "oPUY8CakI6zP",
        "outputId": "675f5621-fb79-4fc6-8ce9-bcb9bed98de5"
      },
      "outputs": [
        {
          "output_type": "execute_result",
          "data": {
            "text/plain": [
              "<seaborn.axisgrid.FacetGrid at 0x7fc951d64e50>"
            ]
          },
          "metadata": {},
          "execution_count": 408
        },
        {
          "output_type": "display_data",
          "data": {
            "text/plain": [
              "<Figure size 360x360 with 1 Axes>"
            ],
            "image/png": "[encoded data removed]"
          },
          "metadata": {}
        }
      ],
      "source": [
        "sns.displot(track.duration_ms, color=\"b\", bins=[25000, 50000, 100000,200000,300000,400000, 500000, 600000, 700000, 800000, 900000, 1000000, 1000000])"
      ]
    },
    {
      "cell_type": "markdown",
      "metadata": {
        "collapsed": false,
        "id": "0fXDzTaLI6zP"
      },
      "source": [
        "explicit inceleme"
      ]
    },
    {
      "cell_type": "code",
      "execution_count": 409,
      "metadata": {
        "id": "JMWzo2zKI6zQ",
        "outputId": "17ebb8de-1a3c-43f4-f097-032a4a480f5f",
        "colab": {
          "base_uri": "https://localhost:8080/",
          "height": 282
        }
      },
      "outputs": [
        {
          "output_type": "execute_result",
          "data": {
            "text/plain": [
              "<matplotlib.axes._subplots.AxesSubplot at 0x7fc9625b7310>"
            ]
          },
          "metadata": {},
          "execution_count": 409
        },
        {
          "output_type": "display_data",
          "data": {
            "text/plain": [
              "<Figure size 432x288 with 1 Axes>"
            ],
            "image/png": "[encoded data removed]"
          },
          "metadata": {}
        }
      ],
      "source": [
        "track.explicit.value_counts().plot.barh()"
      ]
    },
    {
      "cell_type": "markdown",
      "source": [
        "danceability inceleme"
      ],
      "metadata": {
        "id": "rEt10_IdlUg2"
      }
    },
    {
      "cell_type": "code",
      "source": [
        "sns.displot(track.danceability, color=\"b\")"
      ],
      "metadata": {
        "colab": {
          "base_uri": "https://localhost:8080/",
          "height": 386
        },
        "id": "Blp4pHA27Y6t",
        "outputId": "349c8ccb-f6ca-467c-915f-9a71995a8a16"
      },
      "execution_count": 410,
      "outputs": [
        {
          "output_type": "execute_result",
          "data": {
            "text/plain": [
              "<seaborn.axisgrid.FacetGrid at 0x7fc9628ebf70>"
            ]
          },
          "metadata": {},
          "execution_count": 410
        },
        {
          "output_type": "display_data",
          "data": {
            "text/plain": [
              "<Figure size 360x360 with 1 Axes>"
            ],
            "image/png": "[encoded data removed]"
          },
          "metadata": {}
        }
      ]
    },
    {
      "cell_type": "markdown",
      "source": [
        "energy, key, loudness inceleme"
      ],
      "metadata": {
        "id": "84kqw08DlvZc"
      }
    },
    {
      "cell_type": "code",
      "source": [
        "sns.displot(track.energy, color=\"b\")\n",
        "sns.displot(track.key, color=\"b\")  # Bir şarkının anahtarı nedir? Bir şarkının anahtarı, müziğin ortalandığı nota veya akor, yani toniktir. the guitar chord key chart a bakılabilir.\n",
        "sns.displot(track.loudness, color=\"b\") # -60, 0 arası"
      ],
      "metadata": {
        "colab": {
          "base_uri": "https://localhost:8080/",
          "height": 1000
        },
        "id": "nAg5W3FPltXV",
        "outputId": "634966b3-819e-44a1-e7e9-9e357b59920c"
      },
      "execution_count": 411,
      "outputs": [
        {
          "output_type": "execute_result",
          "data": {
            "text/plain": [
              "<seaborn.axisgrid.FacetGrid at 0x7fc962ab96a0>"
            ]
          },
          "metadata": {},
          "execution_count": 411
        },
        {
          "output_type": "display_data",
          "data": {
            "text/plain": [
              "<Figure size 360x360 with 1 Axes>"
            ],
            "image/png": "[encoded data removed]"
          },
          "metadata": {}
        },
        {
          "output_type": "display_data",
          "data": {
            "text/plain": [
              "<Figure size 360x360 with 1 Axes>"
            ],
            "image/png": "[encoded data removed]"
          },
          "metadata": {}
        },
        {
          "output_type": "display_data",
          "data": {
            "text/plain": [
              "<Figure size 360x360 with 1 Axes>"
            ],
            "image/png": "[encoded data removed]"
          },
          "metadata": {}
        }
      ]
    },
    {
      "cell_type": "markdown",
      "source": [
        " mode             \n",
        " speechiness           \n",
        " acousticness "
      ],
      "metadata": {
        "id": "97VozBM-oJ-Z"
      }
    },
    {
      "cell_type": "code",
      "source": [
        "sns.displot(track[\"mode\"], color=\"b\")\n",
        "sns.displot(track.speechiness, color=\"b\")\n",
        "sns.displot(track.acousticness, color=\"b\")"
      ],
      "metadata": {
        "colab": {
          "base_uri": "https://localhost:8080/",
          "height": 1000
        },
        "id": "JFyGRKQAoVPD",
        "outputId": "a379dbc8-6714-4b38-8874-67e06b65497b"
      },
      "execution_count": 412,
      "outputs": [
        {
          "output_type": "execute_result",
          "data": {
            "text/plain": [
              "<seaborn.axisgrid.FacetGrid at 0x7fc986f25070>"
            ]
          },
          "metadata": {},
          "execution_count": 412
        },
        {
          "output_type": "display_data",
          "data": {
            "text/plain": [
              "<Figure size 360x360 with 1 Axes>"
            ],
            "image/png": "[encoded data removed]"
          },
          "metadata": {}
        },
        {
          "output_type": "display_data",
          "data": {
            "text/plain": [
              "<Figure size 360x360 with 1 Axes>"
            ],
            "image/png": "[encoded data removed]"
          },
          "metadata": {}
        },
        {
          "output_type": "display_data",
          "data": {
            "text/plain": [
              "<Figure size 360x360 with 1 Axes>"
            ],
            "image/png": "[encoded data removed]"
          },
          "metadata": {}
        }
      ]
    },
    {
      "cell_type": "markdown",
      "source": [
        "instrumentalness           \n",
        "liveness          \n",
        "valence          \n",
        "tempo            \n",
        "time_signature             "
      ],
      "metadata": {
        "id": "lDCdpe8WoWLD"
      }
    },
    {
      "cell_type": "code",
      "source": [
        "sns.displot(track.instrumentalness, color=\"b\", bins=[0.1, 0.2, 0.3, 0.4, 0.5, 0.6, 0.7, 0.8, 0.9, 1])\n",
        "sns.displot(track.liveness, color=\"b\")\n",
        "sns.displot(track.valence, color=\"b\")\n",
        "sns.displot(track.tempo, color=\"b\")\n",
        "sns.displot(track.time_signature, color=\"b\")"
      ],
      "metadata": {
        "colab": {
          "base_uri": "https://localhost:8080/",
          "height": 1000
        },
        "id": "J74KSsQ4pzKi",
        "outputId": "09d6a979-c8b6-4938-a097-1b6413352eb0"
      },
      "execution_count": 413,
      "outputs": [
        {
          "output_type": "execute_result",
          "data": {
            "text/plain": [
              "<seaborn.axisgrid.FacetGrid at 0x7fc9842cc7c0>"
            ]
          },
          "metadata": {},
          "execution_count": 413
        },
        {
          "output_type": "display_data",
          "data": {
            "text/plain": [
              "<Figure size 360x360 with 1 Axes>"
            ],
            "image/png": "[encoded data removed]"
          },
          "metadata": {}
        },
        {
          "output_type": "display_data",
          "data": {
            "text/plain": [
              "<Figure size 360x360 with 1 Axes>"
            ],
            "image/png": "[encoded data removed]"
          },
          "metadata": {}
        },
        {
          "output_type": "display_data",
          "data": {
            "text/plain": [
              "<Figure size 360x360 with 1 Axes>"
            ],
            "image/png": "[encoded data removed]"
          },
          "metadata": {}
        },
        {
          "output_type": "display_data",
          "data": {
            "text/plain": [
              "<Figure size 360x360 with 1 Axes>"
            ],
            "image/png": "[encoded data removed]"
          },
          "metadata": {}
        },
        {
          "output_type": "display_data",
          "data": {
            "text/plain": [
              "<Figure size 360x360 with 1 Axes>"
            ],
            "image/png": "[encoded data removed]"
          },
          "metadata": {}
        }
      ]
    },
    {
      "cell_type": "code",
      "source": [
        "track.release_date.describe()"
      ],
      "metadata": {
        "colab": {
          "base_uri": "https://localhost:8080/"
        },
        "id": "wZZmgaGh3Bu6",
        "outputId": "b4b5342a-3f78-4fdc-83fc-a63c2f584507"
      },
      "execution_count": 414,
      "outputs": [
        {
          "output_type": "execute_result",
          "data": {
            "text/plain": [
              "count         586672\n",
              "unique         19700\n",
              "top       1998-01-01\n",
              "freq            2893\n",
              "Name: release_date, dtype: object"
            ]
          },
          "metadata": {},
          "execution_count": 414
        }
      ]
    },
    {
      "cell_type": "markdown",
      "source": [
        "# **Preprocessing**\n",
        "\n",
        "Id, song name, artist's name, id of artists are dropped"
      ],
      "metadata": {
        "id": "IBokYSNGRywD"
      }
    },
    {
      "cell_type": "code",
      "source": [
        "track.drop(['name', 'id', 'artists', 'id_artists'], axis=1, inplace=True)"
      ],
      "metadata": {
        "id": "zRZgBwtPRZ2W"
      },
      "execution_count": 6,
      "outputs": []
    },
    {
      "cell_type": "markdown",
      "source": [
        "date format edited. ex: 01.01.2012 becomes 2012"
      ],
      "metadata": {
        "id": "btqDWdvjSUC3"
      }
    },
    {
      "cell_type": "code",
      "source": [
        "track['release_date'] = np.where(track['release_date'].str.len() > 4, track['release_date'].str.slice(start=0, stop=4), track['release_date']).astype(str).astype(int)\n",
        "before1922 = track[track['release_date'].astype(int) < 1922].index\n",
        "track.drop(before1922, inplace=True)\n",
        "track.reset_index(drop=True)"
      ],
      "metadata": {
        "colab": {
          "base_uri": "https://localhost:8080/",
          "height": 468
        },
        "id": "sDcbrtavSFm3",
        "outputId": "7d7aea32-9d38-4e4c-944c-9cdb518a8bf9"
      },
      "execution_count": 7,
      "outputs": [
        {
          "output_type": "execute_result",
          "data": {
            "text/plain": [
              "        popularity  duration_ms  explicit  release_date  danceability  energy  \\\n",
              "0                6       126903         0          1922         0.645  0.4450   \n",
              "1                0        98200         0          1922         0.695  0.2630   \n",
              "2                0       181640         0          1922         0.434  0.1770   \n",
              "3                0       176907         0          1922         0.321  0.0946   \n",
              "4                0       163080         0          1922         0.402  0.1580   \n",
              "...            ...          ...       ...           ...           ...     ...   \n",
              "586666          50       258267         0          2020         0.560  0.5180   \n",
              "586667          72       153293         0          2020         0.765  0.6630   \n",
              "586668          70       187601         0          2020         0.535  0.3140   \n",
              "586669          58       142003         0          2021         0.696  0.6150   \n",
              "586670          38       214360         0          2015         0.686  0.7230   \n",
              "\n",
              "        key  loudness  mode  speechiness  acousticness  instrumentalness  \\\n",
              "0         0   -13.338     1       0.4510         0.674          0.744000   \n",
              "1         0   -22.136     1       0.9570         0.797          0.000000   \n",
              "2         1   -21.180     1       0.0512         0.994          0.021800   \n",
              "3         7   -27.961     1       0.0504         0.995          0.918000   \n",
              "4         3   -16.900     0       0.0390         0.989          0.130000   \n",
              "...     ...       ...   ...          ...           ...               ...   \n",
              "586666    0    -7.471     0       0.0292         0.785          0.000000   \n",
              "586667    0    -5.223     1       0.0652         0.141          0.000297   \n",
              "586668    7   -12.823     0       0.0408         0.895          0.000150   \n",
              "586669   10    -6.212     1       0.0345         0.206          0.000003   \n",
              "586670    6    -7.067     1       0.0363         0.105          0.000000   \n",
              "\n",
              "        liveness  valence    tempo  time_signature  \n",
              "0         0.1510   0.1270  104.851               3  \n",
              "1         0.1480   0.6550  102.009               1  \n",
              "2         0.2120   0.4570  130.418               5  \n",
              "3         0.1040   0.3970  169.980               3  \n",
              "4         0.3110   0.1960  103.220               4  \n",
              "...          ...      ...      ...             ...  \n",
              "586666    0.0648   0.2110  131.896               4  \n",
              "586667    0.0924   0.6860  150.091               4  \n",
              "586668    0.0874   0.0663  145.095               4  \n",
              "586669    0.3050   0.4380   90.029               4  \n",
              "586670    0.2640   0.9750  112.204               4  \n",
              "\n",
              "[586671 rows x 16 columns]"
            ],
            "text/html": [
              "\n",
              "  <div id=\"df-d5fc9203-9b4b-472d-9e23-8ecf601ab5b6\">\n",
              "    <div class=\"colab-df-container\">\n",
              "      <div>\n",
              "<style scoped>\n",
              "    .dataframe tbody tr th:only-of-type {\n",
              "        vertical-align: middle;\n",
              "    }\n",
              "\n",
              "    .dataframe tbody tr th {\n",
              "        vertical-align: top;\n",
              "    }\n",
              "\n",
              "    .dataframe thead th {\n",
              "        text-align: right;\n",
              "    }\n",
              "</style>\n",
              "<table border=\"1\" class=\"dataframe\">\n",
              "  <thead>\n",
              "    <tr style=\"text-align: right;\">\n",
              "      <th></th>\n",
              "      <th>popularity</th>\n",
              "      <th>duration_ms</th>\n",
              "      <th>explicit</th>\n",
              "      <th>release_date</th>\n",
              "      <th>danceability</th>\n",
              "      <th>energy</th>\n",
              "      <th>key</th>\n",
              "      <th>loudness</th>\n",
              "      <th>mode</th>\n",
              "      <th>speechiness</th>\n",
              "      <th>acousticness</th>\n",
              "      <th>instrumentalness</th>\n",
              "      <th>liveness</th>\n",
              "      <th>valence</th>\n",
              "      <th>tempo</th>\n",
              "      <th>time_signature</th>\n",
              "    </tr>\n",
              "  </thead>\n",
              "  <tbody>\n",
              "    <tr>\n",
              "      <th>0</th>\n",
              "      <td>6</td>\n",
              "      <td>126903</td>\n",
              "      <td>0</td>\n",
              "      <td>1922</td>\n",
              "      <td>0.645</td>\n",
              "      <td>0.4450</td>\n",
              "      <td>0</td>\n",
              "      <td>-13.338</td>\n",
              "      <td>1</td>\n",
              "      <td>0.4510</td>\n",
              "      <td>0.674</td>\n",
              "      <td>0.744000</td>\n",
              "      <td>0.1510</td>\n",
              "      <td>0.1270</td>\n",
              "      <td>104.851</td>\n",
              "      <td>3</td>\n",
              "    </tr>\n",
              "    <tr>\n",
              "      <th>1</th>\n",
              "      <td>0</td>\n",
              "      <td>98200</td>\n",
              "      <td>0</td>\n",
              "      <td>1922</td>\n",
              "      <td>0.695</td>\n",
              "      <td>0.2630</td>\n",
              "      <td>0</td>\n",
              "      <td>-22.136</td>\n",
              "      <td>1</td>\n",
              "      <td>0.9570</td>\n",
              "      <td>0.797</td>\n",
              "      <td>0.000000</td>\n",
              "      <td>0.1480</td>\n",
              "      <td>0.6550</td>\n",
              "      <td>102.009</td>\n",
              "      <td>1</td>\n",
              "    </tr>\n",
              "    <tr>\n",
              "      <th>2</th>\n",
              "      <td>0</td>\n",
              "      <td>181640</td>\n",
              "      <td>0</td>\n",
              "      <td>1922</td>\n",
              "      <td>0.434</td>\n",
              "      <td>0.1770</td>\n",
              "      <td>1</td>\n",
              "      <td>-21.180</td>\n",
              "      <td>1</td>\n",
              "      <td>0.0512</td>\n",
              "      <td>0.994</td>\n",
              "      <td>0.021800</td>\n",
              "      <td>0.2120</td>\n",
              "      <td>0.4570</td>\n",
              "      <td>130.418</td>\n",
              "      <td>5</td>\n",
              "    </tr>\n",
              "    <tr>\n",
              "      <th>3</th>\n",
              "      <td>0</td>\n",
              "      <td>176907</td>\n",
              "      <td>0</td>\n",
              "      <td>1922</td>\n",
              "      <td>0.321</td>\n",
              "      <td>0.0946</td>\n",
              "      <td>7</td>\n",
              "      <td>-27.961</td>\n",
              "      <td>1</td>\n",
              "      <td>0.0504</td>\n",
              "      <td>0.995</td>\n",
              "      <td>0.918000</td>\n",
              "      <td>0.1040</td>\n",
              "      <td>0.3970</td>\n",
              "      <td>169.980</td>\n",
              "      <td>3</td>\n",
              "    </tr>\n",
              "    <tr>\n",
              "      <th>4</th>\n",
              "      <td>0</td>\n",
              "      <td>163080</td>\n",
              "      <td>0</td>\n",
              "      <td>1922</td>\n",
              "      <td>0.402</td>\n",
              "      <td>0.1580</td>\n",
              "      <td>3</td>\n",
              "      <td>-16.900</td>\n",
              "      <td>0</td>\n",
              "      <td>0.0390</td>\n",
              "      <td>0.989</td>\n",
              "      <td>0.130000</td>\n",
              "      <td>0.3110</td>\n",
              "      <td>0.1960</td>\n",
              "      <td>103.220</td>\n",
              "      <td>4</td>\n",
              "    </tr>\n",
              "    <tr>\n",
              "      <th>...</th>\n",
              "      <td>...</td>\n",
              "      <td>...</td>\n",
              "      <td>...</td>\n",
              "      <td>...</td>\n",
              "      <td>...</td>\n",
              "      <td>...</td>\n",
              "      <td>...</td>\n",
              "      <td>...</td>\n",
              "      <td>...</td>\n",
              "      <td>...</td>\n",
              "      <td>...</td>\n",
              "      <td>...</td>\n",
              "      <td>...</td>\n",
              "      <td>...</td>\n",
              "      <td>...</td>\n",
              "      <td>...</td>\n",
              "    </tr>\n",
              "    <tr>\n",
              "      <th>586666</th>\n",
              "      <td>50</td>\n",
              "      <td>258267</td>\n",
              "      <td>0</td>\n",
              "      <td>2020</td>\n",
              "      <td>0.560</td>\n",
              "      <td>0.5180</td>\n",
              "      <td>0</td>\n",
              "      <td>-7.471</td>\n",
              "      <td>0</td>\n",
              "      <td>0.0292</td>\n",
              "      <td>0.785</td>\n",
              "      <td>0.000000</td>\n",
              "      <td>0.0648</td>\n",
              "      <td>0.2110</td>\n",
              "      <td>131.896</td>\n",
              "      <td>4</td>\n",
              "    </tr>\n",
              "    <tr>\n",
              "      <th>586667</th>\n",
              "      <td>72</td>\n",
              "      <td>153293</td>\n",
              "      <td>0</td>\n",
              "      <td>2020</td>\n",
              "      <td>0.765</td>\n",
              "      <td>0.6630</td>\n",
              "      <td>0</td>\n",
              "      <td>-5.223</td>\n",
              "      <td>1</td>\n",
              "      <td>0.0652</td>\n",
              "      <td>0.141</td>\n",
              "      <td>0.000297</td>\n",
              "      <td>0.0924</td>\n",
              "      <td>0.6860</td>\n",
              "      <td>150.091</td>\n",
              "      <td>4</td>\n",
              "    </tr>\n",
              "    <tr>\n",
              "      <th>586668</th>\n",
              "      <td>70</td>\n",
              "      <td>187601</td>\n",
              "      <td>0</td>\n",
              "      <td>2020</td>\n",
              "      <td>0.535</td>\n",
              "      <td>0.3140</td>\n",
              "      <td>7</td>\n",
              "      <td>-12.823</td>\n",
              "      <td>0</td>\n",
              "      <td>0.0408</td>\n",
              "      <td>0.895</td>\n",
              "      <td>0.000150</td>\n",
              "      <td>0.0874</td>\n",
              "      <td>0.0663</td>\n",
              "      <td>145.095</td>\n",
              "      <td>4</td>\n",
              "    </tr>\n",
              "    <tr>\n",
              "      <th>586669</th>\n",
              "      <td>58</td>\n",
              "      <td>142003</td>\n",
              "      <td>0</td>\n",
              "      <td>2021</td>\n",
              "      <td>0.696</td>\n",
              "      <td>0.6150</td>\n",
              "      <td>10</td>\n",
              "      <td>-6.212</td>\n",
              "      <td>1</td>\n",
              "      <td>0.0345</td>\n",
              "      <td>0.206</td>\n",
              "      <td>0.000003</td>\n",
              "      <td>0.3050</td>\n",
              "      <td>0.4380</td>\n",
              "      <td>90.029</td>\n",
              "      <td>4</td>\n",
              "    </tr>\n",
              "    <tr>\n",
              "      <th>586670</th>\n",
              "      <td>38</td>\n",
              "      <td>214360</td>\n",
              "      <td>0</td>\n",
              "      <td>2015</td>\n",
              "      <td>0.686</td>\n",
              "      <td>0.7230</td>\n",
              "      <td>6</td>\n",
              "      <td>-7.067</td>\n",
              "      <td>1</td>\n",
              "      <td>0.0363</td>\n",
              "      <td>0.105</td>\n",
              "      <td>0.000000</td>\n",
              "      <td>0.2640</td>\n",
              "      <td>0.9750</td>\n",
              "      <td>112.204</td>\n",
              "      <td>4</td>\n",
              "    </tr>\n",
              "  </tbody>\n",
              "</table>\n",
              "<p>586671 rows × 16 columns</p>\n",
              "</div>\n",
              "      <button class=\"colab-df-convert\" onclick=\"convertToInteractive('df-d5fc9203-9b4b-472d-9e23-8ecf601ab5b6')\"\n",
              "              title=\"Convert this dataframe to an interactive table.\"\n",
              "              style=\"display:none;\">\n",
              "        \n",
              "  <svg xmlns=\"http://www.w3.org/2000/svg\" height=\"24px\"viewBox=\"0 0 24 24\"\n",
              "       width=\"24px\">\n",
              "    <path d=\"M0 0h24v24H0V0z\" fill=\"none\"/>\n",
              "    <path d=\"M18.56 5.44l.94 2.06.94-2.06 2.06-.94-2.06-.94-.94-2.06-.94 2.06-2.06.94zm-11 1L8.5 8.5l.94-2.06 2.06-.94-2.06-.94L8.5 2.5l-.94 2.06-2.06.94zm10 10l.94 2.06.94-2.06 2.06-.94-2.06-.94-.94-2.06-.94 2.06-2.06.94z\"/><path d=\"M17.41 7.96l-1.37-1.37c-.4-.4-.92-.59-1.43-.59-.52 0-1.04.2-1.43.59L10.3 9.45l-7.72 7.72c-.78.78-.78 2.05 0 2.83L4 21.41c.39.39.9.59 1.41.59.51 0 1.02-.2 1.41-.59l7.78-7.78 2.81-2.81c.8-.78.8-2.07 0-2.86zM5.41 20L4 18.59l7.72-7.72 1.47 1.35L5.41 20z\"/>\n",
              "  </svg>\n",
              "      </button>\n",
              "      \n",
              "  <style>\n",
              "    .colab-df-container {\n",
              "      display:flex;\n",
              "      flex-wrap:wrap;\n",
              "      gap: 12px;\n",
              "    }\n",
              "\n",
              "    .colab-df-convert {\n",
              "      background-color: #E8F0FE;\n",
              "      border: none;\n",
              "      border-radius: 50%;\n",
              "      cursor: pointer;\n",
              "      display: none;\n",
              "      fill: #1967D2;\n",
              "      height: 32px;\n",
              "      padding: 0 0 0 0;\n",
              "      width: 32px;\n",
              "    }\n",
              "\n",
              "    .colab-df-convert:hover {\n",
              "      background-color: #E2EBFA;\n",
              "      box-shadow: 0px 1px 2px rgba(60, 64, 67, 0.3), 0px 1px 3px 1px rgba(60, 64, 67, 0.15);\n",
              "      fill: #174EA6;\n",
              "    }\n",
              "\n",
              "    [theme=dark] .colab-df-convert {\n",
              "      background-color: #3B4455;\n",
              "      fill: #D2E3FC;\n",
              "    }\n",
              "\n",
              "    [theme=dark] .colab-df-convert:hover {\n",
              "      background-color: #434B5C;\n",
              "      box-shadow: 0px 1px 3px 1px rgba(0, 0, 0, 0.15);\n",
              "      filter: drop-shadow(0px 1px 2px rgba(0, 0, 0, 0.3));\n",
              "      fill: #FFFFFF;\n",
              "    }\n",
              "  </style>\n",
              "\n",
              "      <script>\n",
              "        const buttonEl =\n",
              "          document.querySelector('#df-d5fc9203-9b4b-472d-9e23-8ecf601ab5b6 button.colab-df-convert');\n",
              "        buttonEl.style.display =\n",
              "          google.colab.kernel.accessAllowed ? 'block' : 'none';\n",
              "\n",
              "        async function convertToInteractive(key) {\n",
              "          const element = document.querySelector('#df-d5fc9203-9b4b-472d-9e23-8ecf601ab5b6');\n",
              "          const dataTable =\n",
              "            await google.colab.kernel.invokeFunction('convertToInteractive',\n",
              "                                                     [key], {});\n",
              "          if (!dataTable) return;\n",
              "\n",
              "          const docLinkHtml = 'Like what you see? Visit the ' +\n",
              "            '<a target=\"_blank\" href=https://colab.research.google.com/notebooks/data_table.ipynb>data table notebook</a>'\n",
              "            + ' to learn more about interactive tables.';\n",
              "          element.innerHTML = '';\n",
              "          dataTable['output_type'] = 'display_data';\n",
              "          await google.colab.output.renderOutput(dataTable, element);\n",
              "          const docLink = document.createElement('div');\n",
              "          docLink.innerHTML = docLinkHtml;\n",
              "          element.appendChild(docLink);\n",
              "        }\n",
              "      </script>\n",
              "    </div>\n",
              "  </div>\n",
              "  "
            ]
          },
          "metadata": {},
          "execution_count": 7
        }
      ]
    },
    {
      "cell_type": "markdown",
      "source": [
        "Delete all songs with zero popularity and before 1940"
      ],
      "metadata": {
        "id": "lln8f3Sv82VS"
      }
    },
    {
      "cell_type": "code",
      "source": [
        "zeroPopularity = track[track['popularity'] == 0]\n",
        "zeroPopularity = zeroPopularity[zeroPopularity['release_date'] < 1940].index\n",
        "zeroPopularity\n",
        "track.drop(zeroPopularity, inplace=True)\n",
        "track.reset_index(drop=True)\n",
        "track.info()"
      ],
      "metadata": {
        "colab": {
          "base_uri": "https://localhost:8080/"
        },
        "id": "Mn1Oqzi580vY",
        "outputId": "a9f78e3d-8f43-4d13-ca97-222d60227429"
      },
      "execution_count": 8,
      "outputs": [
        {
          "output_type": "stream",
          "name": "stdout",
          "text": [
            "<class 'pandas.core.frame.DataFrame'>\n",
            "Int64Index: 571213 entries, 0 to 586671\n",
            "Data columns (total 16 columns):\n",
            " #   Column            Non-Null Count   Dtype  \n",
            "---  ------            --------------   -----  \n",
            " 0   popularity        571213 non-null  int64  \n",
            " 1   duration_ms       571213 non-null  int64  \n",
            " 2   explicit          571213 non-null  int64  \n",
            " 3   release_date      571213 non-null  int64  \n",
            " 4   danceability      571213 non-null  float64\n",
            " 5   energy            571213 non-null  float64\n",
            " 6   key               571213 non-null  int64  \n",
            " 7   loudness          571213 non-null  float64\n",
            " 8   mode              571213 non-null  int64  \n",
            " 9   speechiness       571213 non-null  float64\n",
            " 10  acousticness      571213 non-null  float64\n",
            " 11  instrumentalness  571213 non-null  float64\n",
            " 12  liveness          571213 non-null  float64\n",
            " 13  valence           571213 non-null  float64\n",
            " 14  tempo             571213 non-null  float64\n",
            " 15  time_signature    571213 non-null  int64  \n",
            "dtypes: float64(9), int64(7)\n",
            "memory usage: 74.1 MB\n"
          ]
        }
      ]
    },
    {
      "cell_type": "code",
      "source": [
        "track.release_date.describe()"
      ],
      "metadata": {
        "colab": {
          "base_uri": "https://localhost:8080/"
        },
        "id": "9ha27M6rRxcM",
        "outputId": "b9a98588-dd09-4ccc-f7ce-d60eb3d587dc"
      },
      "execution_count": 9,
      "outputs": [
        {
          "output_type": "execute_result",
          "data": {
            "text/plain": [
              "count    571213.000000\n",
              "mean       1990.111608\n",
              "std          21.073509\n",
              "min        1922.000000\n",
              "25%        1976.000000\n",
              "50%        1993.000000\n",
              "75%        2008.000000\n",
              "max        2021.000000\n",
              "Name: release_date, dtype: float64"
            ]
          },
          "metadata": {},
          "execution_count": 9
        }
      ]
    },
    {
      "cell_type": "code",
      "source": [
        "sns.displot(track.release_date, color=\"b\", bins=25)"
      ],
      "metadata": {
        "colab": {
          "base_uri": "https://localhost:8080/",
          "height": 386
        },
        "id": "g5Kb5v8KTSsm",
        "outputId": "a7659994-2649-4bd3-98fd-61b761e63b2a"
      },
      "execution_count": 10,
      "outputs": [
        {
          "output_type": "execute_result",
          "data": {
            "text/plain": [
              "<seaborn.axisgrid.FacetGrid at 0x7f42abf29fd0>"
            ]
          },
          "metadata": {},
          "execution_count": 10
        },
        {
          "output_type": "display_data",
          "data": {
            "text/plain": [
              "<Figure size 360x360 with 1 Axes>"
            ],
            "image/png": "[encoded data removed]"
          },
          "metadata": {}
        }
      ]
    },
    {
      "cell_type": "code",
      "source": [
        "sns.displot(track.popularity, color=\"b\", bins=25)"
      ],
      "metadata": {
        "colab": {
          "base_uri": "https://localhost:8080/",
          "height": 386
        },
        "id": "o13tUj6h3KUf",
        "outputId": "c84d6187-b554-41ab-9855-527c2372380f"
      },
      "execution_count": 11,
      "outputs": [
        {
          "output_type": "execute_result",
          "data": {
            "text/plain": [
              "<seaborn.axisgrid.FacetGrid at 0x7f42ab622f40>"
            ]
          },
          "metadata": {},
          "execution_count": 11
        },
        {
          "output_type": "display_data",
          "data": {
            "text/plain": [
              "<Figure size 360x360 with 1 Axes>"
            ],
            "image/png": "[encoded data removed]"
          },
          "metadata": {}
        }
      ]
    },
    {
      "cell_type": "code",
      "source": [
        "sns.relplot(data=track, x=\"release_date\", y=\"popularity\")"
      ],
      "metadata": {
        "colab": {
          "base_uri": "https://localhost:8080/",
          "height": 387
        },
        "id": "w-FgXImSTlhN",
        "outputId": "132f4bbc-00ff-4513-98f1-624aa25d16eb"
      },
      "execution_count": 12,
      "outputs": [
        {
          "output_type": "execute_result",
          "data": {
            "text/plain": [
              "<seaborn.axisgrid.FacetGrid at 0x7f42c7111130>"
            ]
          },
          "metadata": {},
          "execution_count": 12
        },
        {
          "output_type": "display_data",
          "data": {
            "text/plain": [
              "<Figure size 360x360 with 1 Axes>"
            ],
            "image/png": "[encoded data removed]"
          },
          "metadata": {}
        }
      ]
    },
    {
      "cell_type": "code",
      "source": [
        "track.sort_values(by=['popularity'], ascending=False)"
      ],
      "metadata": {
        "colab": {
          "base_uri": "https://localhost:8080/",
          "height": 468
        },
        "id": "6c15a2cj68mm",
        "outputId": "855f6694-67c1-49f0-84bd-1f7b09d7c275"
      },
      "execution_count": 13,
      "outputs": [
        {
          "output_type": "execute_result",
          "data": {
            "text/plain": [
              "        popularity  duration_ms  explicit  release_date  danceability  energy  \\\n",
              "93802          100       198082         1          2021         0.677   0.696   \n",
              "93803           99       242014         1          2021         0.585   0.436   \n",
              "93804           98       132780         0          2021         0.778   0.695   \n",
              "92810           97       215627         1          2020         0.680   0.826   \n",
              "92811           97       160191         0          2020         0.653   0.524   \n",
              "...            ...          ...       ...           ...           ...     ...   \n",
              "350993           0       409251         0          2011         0.784   0.711   \n",
              "130751           0       431255         0          2018         0.728   0.871   \n",
              "130753           0       215027         0          2009         0.293   0.751   \n",
              "130755           0       481173         0          2015         0.652   0.672   \n",
              "546332           0       545440         0          1954         0.214   0.056   \n",
              "\n",
              "        key  loudness  mode  speechiness  acousticness  instrumentalness  \\\n",
              "93802     0    -6.181     1       0.1190      0.321000          0.000000   \n",
              "93803    10    -8.761     1       0.0601      0.721000          0.000013   \n",
              "93804     4    -6.865     0       0.0913      0.175000          0.000000   \n",
              "92810     0    -5.487     1       0.0309      0.021200          0.000012   \n",
              "92811    11    -9.016     0       0.0502      0.112000          0.000000   \n",
              "...     ...       ...   ...          ...           ...               ...   \n",
              "350993   10    -9.452     0       0.0884      0.006910          0.691000   \n",
              "130751    4    -7.275     0       0.0359      0.000385          0.809000   \n",
              "130753    9    -9.695     1       0.0319      0.000094          0.000314   \n",
              "130755   10    -9.482     0       0.0509      0.186000          0.896000   \n",
              "546332    7   -22.056     1       0.0374      0.925000          0.886000   \n",
              "\n",
              "        liveness  valence    tempo  time_signature  \n",
              "93802     0.4200   0.4640   90.030               4  \n",
              "93803     0.1050   0.1320  143.874               4  \n",
              "93804     0.1500   0.4720  149.996               4  \n",
              "92810     0.5430   0.6440  118.051               4  \n",
              "92811     0.2030   0.5530   83.970               4  \n",
              "...          ...      ...      ...             ...  \n",
              "350993    0.1100   0.3440  127.999               4  \n",
              "130751    0.0786   0.4740  111.993               4  \n",
              "130753    0.1100   0.7860  152.446               4  \n",
              "130755    0.0829   0.2110  122.010               4  \n",
              "546332    0.3550   0.0695   99.031               4  \n",
              "\n",
              "[571213 rows x 16 columns]"
            ],
            "text/html": [
              "\n",
              "  <div id=\"df-0652f6d3-8750-4f69-ab08-0df9fc53ca27\">\n",
              "    <div class=\"colab-df-container\">\n",
              "      <div>\n",
              "<style scoped>\n",
              "    .dataframe tbody tr th:only-of-type {\n",
              "        vertical-align: middle;\n",
              "    }\n",
              "\n",
              "    .dataframe tbody tr th {\n",
              "        vertical-align: top;\n",
              "    }\n",
              "\n",
              "    .dataframe thead th {\n",
              "        text-align: right;\n",
              "    }\n",
              "</style>\n",
              "<table border=\"1\" class=\"dataframe\">\n",
              "  <thead>\n",
              "    <tr style=\"text-align: right;\">\n",
              "      <th></th>\n",
              "      <th>popularity</th>\n",
              "      <th>duration_ms</th>\n",
              "      <th>explicit</th>\n",
              "      <th>release_date</th>\n",
              "      <th>danceability</th>\n",
              "      <th>energy</th>\n",
              "      <th>key</th>\n",
              "      <th>loudness</th>\n",
              "      <th>mode</th>\n",
              "      <th>speechiness</th>\n",
              "      <th>acousticness</th>\n",
              "      <th>instrumentalness</th>\n",
              "      <th>liveness</th>\n",
              "      <th>valence</th>\n",
              "      <th>tempo</th>\n",
              "      <th>time_signature</th>\n",
              "    </tr>\n",
              "  </thead>\n",
              "  <tbody>\n",
              "    <tr>\n",
              "      <th>93802</th>\n",
              "      <td>100</td>\n",
              "      <td>198082</td>\n",
              "      <td>1</td>\n",
              "      <td>2021</td>\n",
              "      <td>0.677</td>\n",
              "      <td>0.696</td>\n",
              "      <td>0</td>\n",
              "      <td>-6.181</td>\n",
              "      <td>1</td>\n",
              "      <td>0.1190</td>\n",
              "      <td>0.321000</td>\n",
              "      <td>0.000000</td>\n",
              "      <td>0.4200</td>\n",
              "      <td>0.4640</td>\n",
              "      <td>90.030</td>\n",
              "      <td>4</td>\n",
              "    </tr>\n",
              "    <tr>\n",
              "      <th>93803</th>\n",
              "      <td>99</td>\n",
              "      <td>242014</td>\n",
              "      <td>1</td>\n",
              "      <td>2021</td>\n",
              "      <td>0.585</td>\n",
              "      <td>0.436</td>\n",
              "      <td>10</td>\n",
              "      <td>-8.761</td>\n",
              "      <td>1</td>\n",
              "      <td>0.0601</td>\n",
              "      <td>0.721000</td>\n",
              "      <td>0.000013</td>\n",
              "      <td>0.1050</td>\n",
              "      <td>0.1320</td>\n",
              "      <td>143.874</td>\n",
              "      <td>4</td>\n",
              "    </tr>\n",
              "    <tr>\n",
              "      <th>93804</th>\n",
              "      <td>98</td>\n",
              "      <td>132780</td>\n",
              "      <td>0</td>\n",
              "      <td>2021</td>\n",
              "      <td>0.778</td>\n",
              "      <td>0.695</td>\n",
              "      <td>4</td>\n",
              "      <td>-6.865</td>\n",
              "      <td>0</td>\n",
              "      <td>0.0913</td>\n",
              "      <td>0.175000</td>\n",
              "      <td>0.000000</td>\n",
              "      <td>0.1500</td>\n",
              "      <td>0.4720</td>\n",
              "      <td>149.996</td>\n",
              "      <td>4</td>\n",
              "    </tr>\n",
              "    <tr>\n",
              "      <th>92810</th>\n",
              "      <td>97</td>\n",
              "      <td>215627</td>\n",
              "      <td>1</td>\n",
              "      <td>2020</td>\n",
              "      <td>0.680</td>\n",
              "      <td>0.826</td>\n",
              "      <td>0</td>\n",
              "      <td>-5.487</td>\n",
              "      <td>1</td>\n",
              "      <td>0.0309</td>\n",
              "      <td>0.021200</td>\n",
              "      <td>0.000012</td>\n",
              "      <td>0.5430</td>\n",
              "      <td>0.6440</td>\n",
              "      <td>118.051</td>\n",
              "      <td>4</td>\n",
              "    </tr>\n",
              "    <tr>\n",
              "      <th>92811</th>\n",
              "      <td>97</td>\n",
              "      <td>160191</td>\n",
              "      <td>0</td>\n",
              "      <td>2020</td>\n",
              "      <td>0.653</td>\n",
              "      <td>0.524</td>\n",
              "      <td>11</td>\n",
              "      <td>-9.016</td>\n",
              "      <td>0</td>\n",
              "      <td>0.0502</td>\n",
              "      <td>0.112000</td>\n",
              "      <td>0.000000</td>\n",
              "      <td>0.2030</td>\n",
              "      <td>0.5530</td>\n",
              "      <td>83.970</td>\n",
              "      <td>4</td>\n",
              "    </tr>\n",
              "    <tr>\n",
              "      <th>...</th>\n",
              "      <td>...</td>\n",
              "      <td>...</td>\n",
              "      <td>...</td>\n",
              "      <td>...</td>\n",
              "      <td>...</td>\n",
              "      <td>...</td>\n",
              "      <td>...</td>\n",
              "      <td>...</td>\n",
              "      <td>...</td>\n",
              "      <td>...</td>\n",
              "      <td>...</td>\n",
              "      <td>...</td>\n",
              "      <td>...</td>\n",
              "      <td>...</td>\n",
              "      <td>...</td>\n",
              "      <td>...</td>\n",
              "    </tr>\n",
              "    <tr>\n",
              "      <th>350993</th>\n",
              "      <td>0</td>\n",
              "      <td>409251</td>\n",
              "      <td>0</td>\n",
              "      <td>2011</td>\n",
              "      <td>0.784</td>\n",
              "      <td>0.711</td>\n",
              "      <td>10</td>\n",
              "      <td>-9.452</td>\n",
              "      <td>0</td>\n",
              "      <td>0.0884</td>\n",
              "      <td>0.006910</td>\n",
              "      <td>0.691000</td>\n",
              "      <td>0.1100</td>\n",
              "      <td>0.3440</td>\n",
              "      <td>127.999</td>\n",
              "      <td>4</td>\n",
              "    </tr>\n",
              "    <tr>\n",
              "      <th>130751</th>\n",
              "      <td>0</td>\n",
              "      <td>431255</td>\n",
              "      <td>0</td>\n",
              "      <td>2018</td>\n",
              "      <td>0.728</td>\n",
              "      <td>0.871</td>\n",
              "      <td>4</td>\n",
              "      <td>-7.275</td>\n",
              "      <td>0</td>\n",
              "      <td>0.0359</td>\n",
              "      <td>0.000385</td>\n",
              "      <td>0.809000</td>\n",
              "      <td>0.0786</td>\n",
              "      <td>0.4740</td>\n",
              "      <td>111.993</td>\n",
              "      <td>4</td>\n",
              "    </tr>\n",
              "    <tr>\n",
              "      <th>130753</th>\n",
              "      <td>0</td>\n",
              "      <td>215027</td>\n",
              "      <td>0</td>\n",
              "      <td>2009</td>\n",
              "      <td>0.293</td>\n",
              "      <td>0.751</td>\n",
              "      <td>9</td>\n",
              "      <td>-9.695</td>\n",
              "      <td>1</td>\n",
              "      <td>0.0319</td>\n",
              "      <td>0.000094</td>\n",
              "      <td>0.000314</td>\n",
              "      <td>0.1100</td>\n",
              "      <td>0.7860</td>\n",
              "      <td>152.446</td>\n",
              "      <td>4</td>\n",
              "    </tr>\n",
              "    <tr>\n",
              "      <th>130755</th>\n",
              "      <td>0</td>\n",
              "      <td>481173</td>\n",
              "      <td>0</td>\n",
              "      <td>2015</td>\n",
              "      <td>0.652</td>\n",
              "      <td>0.672</td>\n",
              "      <td>10</td>\n",
              "      <td>-9.482</td>\n",
              "      <td>0</td>\n",
              "      <td>0.0509</td>\n",
              "      <td>0.186000</td>\n",
              "      <td>0.896000</td>\n",
              "      <td>0.0829</td>\n",
              "      <td>0.2110</td>\n",
              "      <td>122.010</td>\n",
              "      <td>4</td>\n",
              "    </tr>\n",
              "    <tr>\n",
              "      <th>546332</th>\n",
              "      <td>0</td>\n",
              "      <td>545440</td>\n",
              "      <td>0</td>\n",
              "      <td>1954</td>\n",
              "      <td>0.214</td>\n",
              "      <td>0.056</td>\n",
              "      <td>7</td>\n",
              "      <td>-22.056</td>\n",
              "      <td>1</td>\n",
              "      <td>0.0374</td>\n",
              "      <td>0.925000</td>\n",
              "      <td>0.886000</td>\n",
              "      <td>0.3550</td>\n",
              "      <td>0.0695</td>\n",
              "      <td>99.031</td>\n",
              "      <td>4</td>\n",
              "    </tr>\n",
              "  </tbody>\n",
              "</table>\n",
              "<p>571213 rows × 16 columns</p>\n",
              "</div>\n",
              "      <button class=\"colab-df-convert\" onclick=\"convertToInteractive('df-0652f6d3-8750-4f69-ab08-0df9fc53ca27')\"\n",
              "              title=\"Convert this dataframe to an interactive table.\"\n",
              "              style=\"display:none;\">\n",
              "        \n",
              "  <svg xmlns=\"http://www.w3.org/2000/svg\" height=\"24px\"viewBox=\"0 0 24 24\"\n",
              "       width=\"24px\">\n",
              "    <path d=\"M0 0h24v24H0V0z\" fill=\"none\"/>\n",
              "    <path d=\"M18.56 5.44l.94 2.06.94-2.06 2.06-.94-2.06-.94-.94-2.06-.94 2.06-2.06.94zm-11 1L8.5 8.5l.94-2.06 2.06-.94-2.06-.94L8.5 2.5l-.94 2.06-2.06.94zm10 10l.94 2.06.94-2.06 2.06-.94-2.06-.94-.94-2.06-.94 2.06-2.06.94z\"/><path d=\"M17.41 7.96l-1.37-1.37c-.4-.4-.92-.59-1.43-.59-.52 0-1.04.2-1.43.59L10.3 9.45l-7.72 7.72c-.78.78-.78 2.05 0 2.83L4 21.41c.39.39.9.59 1.41.59.51 0 1.02-.2 1.41-.59l7.78-7.78 2.81-2.81c.8-.78.8-2.07 0-2.86zM5.41 20L4 18.59l7.72-7.72 1.47 1.35L5.41 20z\"/>\n",
              "  </svg>\n",
              "      </button>\n",
              "      \n",
              "  <style>\n",
              "    .colab-df-container {\n",
              "      display:flex;\n",
              "      flex-wrap:wrap;\n",
              "      gap: 12px;\n",
              "    }\n",
              "\n",
              "    .colab-df-convert {\n",
              "      background-color: #E8F0FE;\n",
              "      border: none;\n",
              "      border-radius: 50%;\n",
              "      cursor: pointer;\n",
              "      display: none;\n",
              "      fill: #1967D2;\n",
              "      height: 32px;\n",
              "      padding: 0 0 0 0;\n",
              "      width: 32px;\n",
              "    }\n",
              "\n",
              "    .colab-df-convert:hover {\n",
              "      background-color: #E2EBFA;\n",
              "      box-shadow: 0px 1px 2px rgba(60, 64, 67, 0.3), 0px 1px 3px 1px rgba(60, 64, 67, 0.15);\n",
              "      fill: #174EA6;\n",
              "    }\n",
              "\n",
              "    [theme=dark] .colab-df-convert {\n",
              "      background-color: #3B4455;\n",
              "      fill: #D2E3FC;\n",
              "    }\n",
              "\n",
              "    [theme=dark] .colab-df-convert:hover {\n",
              "      background-color: #434B5C;\n",
              "      box-shadow: 0px 1px 3px 1px rgba(0, 0, 0, 0.15);\n",
              "      filter: drop-shadow(0px 1px 2px rgba(0, 0, 0, 0.3));\n",
              "      fill: #FFFFFF;\n",
              "    }\n",
              "  </style>\n",
              "\n",
              "      <script>\n",
              "        const buttonEl =\n",
              "          document.querySelector('#df-0652f6d3-8750-4f69-ab08-0df9fc53ca27 button.colab-df-convert');\n",
              "        buttonEl.style.display =\n",
              "          google.colab.kernel.accessAllowed ? 'block' : 'none';\n",
              "\n",
              "        async function convertToInteractive(key) {\n",
              "          const element = document.querySelector('#df-0652f6d3-8750-4f69-ab08-0df9fc53ca27');\n",
              "          const dataTable =\n",
              "            await google.colab.kernel.invokeFunction('convertToInteractive',\n",
              "                                                     [key], {});\n",
              "          if (!dataTable) return;\n",
              "\n",
              "          const docLinkHtml = 'Like what you see? Visit the ' +\n",
              "            '<a target=\"_blank\" href=https://colab.research.google.com/notebooks/data_table.ipynb>data table notebook</a>'\n",
              "            + ' to learn more about interactive tables.';\n",
              "          element.innerHTML = '';\n",
              "          dataTable['output_type'] = 'display_data';\n",
              "          await google.colab.output.renderOutput(dataTable, element);\n",
              "          const docLink = document.createElement('div');\n",
              "          docLink.innerHTML = docLinkHtml;\n",
              "          element.appendChild(docLink);\n",
              "        }\n",
              "      </script>\n",
              "    </div>\n",
              "  </div>\n",
              "  "
            ]
          },
          "metadata": {},
          "execution_count": 13
        }
      ]
    },
    {
      "cell_type": "code",
      "source": [
        "(track.popularity==0).value_counts()"
      ],
      "metadata": {
        "colab": {
          "base_uri": "https://localhost:8080/"
        },
        "id": "GW7uw7BqceDB",
        "outputId": "58cc6c4d-3378-4d6c-d2d9-4c1a3e29725a"
      },
      "execution_count": 14,
      "outputs": [
        {
          "output_type": "execute_result",
          "data": {
            "text/plain": [
              "False    541981\n",
              "True      29232\n",
              "Name: popularity, dtype: int64"
            ]
          },
          "metadata": {},
          "execution_count": 14
        }
      ]
    },
    {
      "cell_type": "code",
      "source": [
        "track.corr()[\"popularity\"].sort_values().plot.barh()"
      ],
      "metadata": {
        "colab": {
          "base_uri": "https://localhost:8080/",
          "height": 282
        },
        "id": "M3FRXafv5kkg",
        "outputId": "8c87d07a-4b6b-48d8-8dbe-c7aa66c2076d"
      },
      "execution_count": 15,
      "outputs": [
        {
          "output_type": "execute_result",
          "data": {
            "text/plain": [
              "<matplotlib.axes._subplots.AxesSubplot at 0x7f42ab0528e0>"
            ]
          },
          "metadata": {},
          "execution_count": 15
        },
        {
          "output_type": "display_data",
          "data": {
            "text/plain": [
              "<Figure size 432x288 with 1 Axes>"
            ],
            "image/png": "[encoded data removed]"
          },
          "metadata": {}
        }
      ]
    },
    {
      "cell_type": "code",
      "source": [
        "sns.lineplot(x=\"release_date\", y=\"popularity\", data=track)"
      ],
      "metadata": {
        "colab": {
          "base_uri": "https://localhost:8080/",
          "height": 297
        },
        "id": "TpInijNsNnnb",
        "outputId": "e221a27e-e752-4793-c776-380dd7b82220"
      },
      "execution_count": 16,
      "outputs": [
        {
          "output_type": "execute_result",
          "data": {
            "text/plain": [
              "<matplotlib.axes._subplots.AxesSubplot at 0x7f42ab01d6d0>"
            ]
          },
          "metadata": {},
          "execution_count": 16
        },
        {
          "output_type": "display_data",
          "data": {
            "text/plain": [
              "<Figure size 432x288 with 1 Axes>"
            ],
            "image/png": "[encoded data removed]"
          },
          "metadata": {}
        }
      ]
    },
    {
      "cell_type": "code",
      "source": [
        "sns.lineplot(x=\"acousticness\", y=\"popularity\", data=track)"
      ],
      "metadata": {
        "colab": {
          "base_uri": "https://localhost:8080/",
          "height": 296
        },
        "id": "rjVBci48Nv3r",
        "outputId": "5c267c2f-6052-4400-9609-6bc1adbd4000"
      },
      "execution_count": 17,
      "outputs": [
        {
          "output_type": "execute_result",
          "data": {
            "text/plain": [
              "<matplotlib.axes._subplots.AxesSubplot at 0x7f42aaf50bb0>"
            ]
          },
          "metadata": {},
          "execution_count": 17
        },
        {
          "output_type": "display_data",
          "data": {
            "text/plain": [
              "<Figure size 432x288 with 1 Axes>"
            ],
            "image/png": "[encoded data removed]"
          },
          "metadata": {}
        }
      ]
    },
    {
      "cell_type": "code",
      "source": [
        "plt.figure(figsize=(20, 10))\n",
        "\n",
        "heatmap = sns.heatmap(track.corr(), vmin=-1, vmax=1, annot=True)\n",
        "\n",
        "heatmap.set_title('Audio Features Correlation Heatmap', fontdict={'fontsize':12}, pad=12);\n",
        "\n",
        "sns.heatmap(track.corr());"
      ],
      "metadata": {
        "colab": {
          "base_uri": "https://localhost:8080/",
          "height": 690
        },
        "id": "nUcWUbv5XIxC",
        "outputId": "83dd866c-919f-45b4-a669-85eb0de56f8c"
      },
      "execution_count": 18,
      "outputs": [
        {
          "output_type": "display_data",
          "data": {
            "text/plain": [
              "<Figure size 1440x720 with 3 Axes>"
            ],
            "image/png": "[encoded data removed]"
          },
          "metadata": {}
        }
      ]
    },
    {
      "cell_type": "code",
      "execution_count": 19,
      "metadata": {
        "colab": {
          "base_uri": "https://localhost:8080/",
          "height": 551
        },
        "id": "8ASRvwGHI6zH",
        "outputId": "db71a046-4dbc-41d2-d95b-3d9562512838"
      },
      "outputs": [
        {
          "output_type": "execute_result",
          "data": {
            "text/plain": [
              "                     count           mean            std     min          25%  \\\n",
              "popularity        571213.0      28.316161      18.041265     0.0      14.0000   \n",
              "duration_ms       571213.0  230874.746704  126118.233100  4937.0  175987.0000   \n",
              "explicit          571213.0       0.045221       0.207789     0.0       0.0000   \n",
              "release_date      571213.0    1990.111608      21.073509  1922.0    1976.0000   \n",
              "danceability      571213.0       0.563580       0.166050     0.0       0.4530   \n",
              "energy            571213.0       0.548500       0.250553     0.0       0.3550   \n",
              "key               571213.0       5.227376       3.520790     0.0       2.0000   \n",
              "loudness          571213.0     -10.106321       5.022394   -60.0     -12.7530   \n",
              "mode              571213.0       0.656801       0.474778     0.0       0.0000   \n",
              "speechiness       571213.0       0.101325       0.172340     0.0       0.0338   \n",
              "acousticness      571213.0       0.437972       0.344522     0.0       0.0913   \n",
              "instrumentalness  571213.0       0.108071       0.261117     0.0       0.0000   \n",
              "liveness          571213.0       0.213941       0.185140     0.0       0.0978   \n",
              "valence           571213.0       0.551373       0.258224     0.0       0.3440   \n",
              "tempo             571213.0     118.629688      29.674720     0.0      95.8350   \n",
              "time_signature    571213.0       3.876251       0.466307     0.0       4.0000   \n",
              "\n",
              "                            50%           75%          max  \n",
              "popularity            28.000000      41.00000      100.000  \n",
              "duration_ms       216427.000000  264931.00000  5621218.000  \n",
              "explicit               0.000000       0.00000        1.000  \n",
              "release_date        1993.000000    2008.00000     2021.000  \n",
              "danceability           0.577000       0.68500        0.991  \n",
              "energy                 0.558000       0.75300        1.000  \n",
              "key                    5.000000       8.00000       11.000  \n",
              "loudness              -9.162000      -6.44300        5.376  \n",
              "mode                   1.000000       1.00000        1.000  \n",
              "speechiness            0.043900       0.07500        0.971  \n",
              "acousticness           0.403000       0.76600        0.996  \n",
              "instrumentalness       0.000022       0.00754        1.000  \n",
              "liveness               0.138000       0.27800        1.000  \n",
              "valence                0.562000       0.76900        1.000  \n",
              "tempo                117.697000     136.57100      246.381  \n",
              "time_signature         4.000000       4.00000        5.000  "
            ],
            "text/html": [
              "\n",
              "  <div id=\"df-1c250723-92d0-4b5e-a59d-8e3c2700b108\">\n",
              "    <div class=\"colab-df-container\">\n",
              "      <div>\n",
              "<style scoped>\n",
              "    .dataframe tbody tr th:only-of-type {\n",
              "        vertical-align: middle;\n",
              "    }\n",
              "\n",
              "    .dataframe tbody tr th {\n",
              "        vertical-align: top;\n",
              "    }\n",
              "\n",
              "    .dataframe thead th {\n",
              "        text-align: right;\n",
              "    }\n",
              "</style>\n",
              "<table border=\"1\" class=\"dataframe\">\n",
              "  <thead>\n",
              "    <tr style=\"text-align: right;\">\n",
              "      <th></th>\n",
              "      <th>count</th>\n",
              "      <th>mean</th>\n",
              "      <th>std</th>\n",
              "      <th>min</th>\n",
              "      <th>25%</th>\n",
              "      <th>50%</th>\n",
              "      <th>75%</th>\n",
              "      <th>max</th>\n",
              "    </tr>\n",
              "  </thead>\n",
              "  <tbody>\n",
              "    <tr>\n",
              "      <th>popularity</th>\n",
              "      <td>571213.0</td>\n",
              "      <td>28.316161</td>\n",
              "      <td>18.041265</td>\n",
              "      <td>0.0</td>\n",
              "      <td>14.0000</td>\n",
              "      <td>28.000000</td>\n",
              "      <td>41.00000</td>\n",
              "      <td>100.000</td>\n",
              "    </tr>\n",
              "    <tr>\n",
              "      <th>duration_ms</th>\n",
              "      <td>571213.0</td>\n",
              "      <td>230874.746704</td>\n",
              "      <td>126118.233100</td>\n",
              "      <td>4937.0</td>\n",
              "      <td>175987.0000</td>\n",
              "      <td>216427.000000</td>\n",
              "      <td>264931.00000</td>\n",
              "      <td>5621218.000</td>\n",
              "    </tr>\n",
              "    <tr>\n",
              "      <th>explicit</th>\n",
              "      <td>571213.0</td>\n",
              "      <td>0.045221</td>\n",
              "      <td>0.207789</td>\n",
              "      <td>0.0</td>\n",
              "      <td>0.0000</td>\n",
              "      <td>0.000000</td>\n",
              "      <td>0.00000</td>\n",
              "      <td>1.000</td>\n",
              "    </tr>\n",
              "    <tr>\n",
              "      <th>release_date</th>\n",
              "      <td>571213.0</td>\n",
              "      <td>1990.111608</td>\n",
              "      <td>21.073509</td>\n",
              "      <td>1922.0</td>\n",
              "      <td>1976.0000</td>\n",
              "      <td>1993.000000</td>\n",
              "      <td>2008.00000</td>\n",
              "      <td>2021.000</td>\n",
              "    </tr>\n",
              "    <tr>\n",
              "      <th>danceability</th>\n",
              "      <td>571213.0</td>\n",
              "      <td>0.563580</td>\n",
              "      <td>0.166050</td>\n",
              "      <td>0.0</td>\n",
              "      <td>0.4530</td>\n",
              "      <td>0.577000</td>\n",
              "      <td>0.68500</td>\n",
              "      <td>0.991</td>\n",
              "    </tr>\n",
              "    <tr>\n",
              "      <th>energy</th>\n",
              "      <td>571213.0</td>\n",
              "      <td>0.548500</td>\n",
              "      <td>0.250553</td>\n",
              "      <td>0.0</td>\n",
              "      <td>0.3550</td>\n",
              "      <td>0.558000</td>\n",
              "      <td>0.75300</td>\n",
              "      <td>1.000</td>\n",
              "    </tr>\n",
              "    <tr>\n",
              "      <th>key</th>\n",
              "      <td>571213.0</td>\n",
              "      <td>5.227376</td>\n",
              "      <td>3.520790</td>\n",
              "      <td>0.0</td>\n",
              "      <td>2.0000</td>\n",
              "      <td>5.000000</td>\n",
              "      <td>8.00000</td>\n",
              "      <td>11.000</td>\n",
              "    </tr>\n",
              "    <tr>\n",
              "      <th>loudness</th>\n",
              "      <td>571213.0</td>\n",
              "      <td>-10.106321</td>\n",
              "      <td>5.022394</td>\n",
              "      <td>-60.0</td>\n",
              "      <td>-12.7530</td>\n",
              "      <td>-9.162000</td>\n",
              "      <td>-6.44300</td>\n",
              "      <td>5.376</td>\n",
              "    </tr>\n",
              "    <tr>\n",
              "      <th>mode</th>\n",
              "      <td>571213.0</td>\n",
              "      <td>0.656801</td>\n",
              "      <td>0.474778</td>\n",
              "      <td>0.0</td>\n",
              "      <td>0.0000</td>\n",
              "      <td>1.000000</td>\n",
              "      <td>1.00000</td>\n",
              "      <td>1.000</td>\n",
              "    </tr>\n",
              "    <tr>\n",
              "      <th>speechiness</th>\n",
              "      <td>571213.0</td>\n",
              "      <td>0.101325</td>\n",
              "      <td>0.172340</td>\n",
              "      <td>0.0</td>\n",
              "      <td>0.0338</td>\n",
              "      <td>0.043900</td>\n",
              "      <td>0.07500</td>\n",
              "      <td>0.971</td>\n",
              "    </tr>\n",
              "    <tr>\n",
              "      <th>acousticness</th>\n",
              "      <td>571213.0</td>\n",
              "      <td>0.437972</td>\n",
              "      <td>0.344522</td>\n",
              "      <td>0.0</td>\n",
              "      <td>0.0913</td>\n",
              "      <td>0.403000</td>\n",
              "      <td>0.76600</td>\n",
              "      <td>0.996</td>\n",
              "    </tr>\n",
              "    <tr>\n",
              "      <th>instrumentalness</th>\n",
              "      <td>571213.0</td>\n",
              "      <td>0.108071</td>\n",
              "      <td>0.261117</td>\n",
              "      <td>0.0</td>\n",
              "      <td>0.0000</td>\n",
              "      <td>0.000022</td>\n",
              "      <td>0.00754</td>\n",
              "      <td>1.000</td>\n",
              "    </tr>\n",
              "    <tr>\n",
              "      <th>liveness</th>\n",
              "      <td>571213.0</td>\n",
              "      <td>0.213941</td>\n",
              "      <td>0.185140</td>\n",
              "      <td>0.0</td>\n",
              "      <td>0.0978</td>\n",
              "      <td>0.138000</td>\n",
              "      <td>0.27800</td>\n",
              "      <td>1.000</td>\n",
              "    </tr>\n",
              "    <tr>\n",
              "      <th>valence</th>\n",
              "      <td>571213.0</td>\n",
              "      <td>0.551373</td>\n",
              "      <td>0.258224</td>\n",
              "      <td>0.0</td>\n",
              "      <td>0.3440</td>\n",
              "      <td>0.562000</td>\n",
              "      <td>0.76900</td>\n",
              "      <td>1.000</td>\n",
              "    </tr>\n",
              "    <tr>\n",
              "      <th>tempo</th>\n",
              "      <td>571213.0</td>\n",
              "      <td>118.629688</td>\n",
              "      <td>29.674720</td>\n",
              "      <td>0.0</td>\n",
              "      <td>95.8350</td>\n",
              "      <td>117.697000</td>\n",
              "      <td>136.57100</td>\n",
              "      <td>246.381</td>\n",
              "    </tr>\n",
              "    <tr>\n",
              "      <th>time_signature</th>\n",
              "      <td>571213.0</td>\n",
              "      <td>3.876251</td>\n",
              "      <td>0.466307</td>\n",
              "      <td>0.0</td>\n",
              "      <td>4.0000</td>\n",
              "      <td>4.000000</td>\n",
              "      <td>4.00000</td>\n",
              "      <td>5.000</td>\n",
              "    </tr>\n",
              "  </tbody>\n",
              "</table>\n",
              "</div>\n",
              "      <button class=\"colab-df-convert\" onclick=\"convertToInteractive('df-1c250723-92d0-4b5e-a59d-8e3c2700b108')\"\n",
              "              title=\"Convert this dataframe to an interactive table.\"\n",
              "              style=\"display:none;\">\n",
              "        \n",
              "  <svg xmlns=\"http://www.w3.org/2000/svg\" height=\"24px\"viewBox=\"0 0 24 24\"\n",
              "       width=\"24px\">\n",
              "    <path d=\"M0 0h24v24H0V0z\" fill=\"none\"/>\n",
              "    <path d=\"M18.56 5.44l.94 2.06.94-2.06 2.06-.94-2.06-.94-.94-2.06-.94 2.06-2.06.94zm-11 1L8.5 8.5l.94-2.06 2.06-.94-2.06-.94L8.5 2.5l-.94 2.06-2.06.94zm10 10l.94 2.06.94-2.06 2.06-.94-2.06-.94-.94-2.06-.94 2.06-2.06.94z\"/><path d=\"M17.41 7.96l-1.37-1.37c-.4-.4-.92-.59-1.43-.59-.52 0-1.04.2-1.43.59L10.3 9.45l-7.72 7.72c-.78.78-.78 2.05 0 2.83L4 21.41c.39.39.9.59 1.41.59.51 0 1.02-.2 1.41-.59l7.78-7.78 2.81-2.81c.8-.78.8-2.07 0-2.86zM5.41 20L4 18.59l7.72-7.72 1.47 1.35L5.41 20z\"/>\n",
              "  </svg>\n",
              "      </button>\n",
              "      \n",
              "  <style>\n",
              "    .colab-df-container {\n",
              "      display:flex;\n",
              "      flex-wrap:wrap;\n",
              "      gap: 12px;\n",
              "    }\n",
              "\n",
              "    .colab-df-convert {\n",
              "      background-color: #E8F0FE;\n",
              "      border: none;\n",
              "      border-radius: 50%;\n",
              "      cursor: pointer;\n",
              "      display: none;\n",
              "      fill: #1967D2;\n",
              "      height: 32px;\n",
              "      padding: 0 0 0 0;\n",
              "      width: 32px;\n",
              "    }\n",
              "\n",
              "    .colab-df-convert:hover {\n",
              "      background-color: #E2EBFA;\n",
              "      box-shadow: 0px 1px 2px rgba(60, 64, 67, 0.3), 0px 1px 3px 1px rgba(60, 64, 67, 0.15);\n",
              "      fill: #174EA6;\n",
              "    }\n",
              "\n",
              "    [theme=dark] .colab-df-convert {\n",
              "      background-color: #3B4455;\n",
              "      fill: #D2E3FC;\n",
              "    }\n",
              "\n",
              "    [theme=dark] .colab-df-convert:hover {\n",
              "      background-color: #434B5C;\n",
              "      box-shadow: 0px 1px 3px 1px rgba(0, 0, 0, 0.15);\n",
              "      filter: drop-shadow(0px 1px 2px rgba(0, 0, 0, 0.3));\n",
              "      fill: #FFFFFF;\n",
              "    }\n",
              "  </style>\n",
              "\n",
              "      <script>\n",
              "        const buttonEl =\n",
              "          document.querySelector('#df-1c250723-92d0-4b5e-a59d-8e3c2700b108 button.colab-df-convert');\n",
              "        buttonEl.style.display =\n",
              "          google.colab.kernel.accessAllowed ? 'block' : 'none';\n",
              "\n",
              "        async function convertToInteractive(key) {\n",
              "          const element = document.querySelector('#df-1c250723-92d0-4b5e-a59d-8e3c2700b108');\n",
              "          const dataTable =\n",
              "            await google.colab.kernel.invokeFunction('convertToInteractive',\n",
              "                                                     [key], {});\n",
              "          if (!dataTable) return;\n",
              "\n",
              "          const docLinkHtml = 'Like what you see? Visit the ' +\n",
              "            '<a target=\"_blank\" href=https://colab.research.google.com/notebooks/data_table.ipynb>data table notebook</a>'\n",
              "            + ' to learn more about interactive tables.';\n",
              "          element.innerHTML = '';\n",
              "          dataTable['output_type'] = 'display_data';\n",
              "          await google.colab.output.renderOutput(dataTable, element);\n",
              "          const docLink = document.createElement('div');\n",
              "          docLink.innerHTML = docLinkHtml;\n",
              "          element.appendChild(docLink);\n",
              "        }\n",
              "      </script>\n",
              "    </div>\n",
              "  </div>\n",
              "  "
            ]
          },
          "metadata": {},
          "execution_count": 19
        }
      ],
      "source": [
        "track.describe().T"
      ]
    },
    {
      "cell_type": "markdown",
      "source": [
        "# *Grouping songs by 20 years*"
      ],
      "metadata": {
        "id": "5pNUVlZT9qjI"
      }
    },
    {
      "cell_type": "code",
      "execution_count": null,
      "metadata": {
        "colab": {
          "base_uri": "https://localhost:8080/"
        },
        "id": "URfYBMgSURgA",
        "outputId": "e51b60dd-d36e-4d42-9146-834cd63ce487"
      },
      "outputs": [
        {
          "output_type": "execute_result",
          "data": {
            "text/plain": [
              "0         2008\n",
              "1         2020\n",
              "2         2008\n",
              "3         2008\n",
              "4         2018\n",
              "          ... \n",
              "203389    2020\n",
              "203390    2020\n",
              "203391    2020\n",
              "203392    2021\n",
              "203393    2015\n",
              "Name: release_date, Length: 203394, dtype: int64"
            ]
          },
          "metadata": {},
          "execution_count": 7
        }
      ],
      "source": [
        "track_1920_1940 = track[(track['release_date'].astype(int) < 1940) & (track['release_date'].astype(int) >= 1920)].reset_index(drop=True)\n",
        "track_1940_1960 = track[(track['release_date'].astype(int) < 1960) & (track['release_date'].astype(int) >= 1940)].reset_index(drop=True)\n",
        "track_1960_1980 = track[(track['release_date'].astype(int) < 1980) & (track['release_date'].astype(int) >= 1960)].reset_index(drop=True)\n",
        "track_1980_2000 = track[(track['release_date'].astype(int) < 2000) & (track['release_date'].astype(int) >= 1980)].reset_index(drop=True)\n",
        "track_2000_2021 = track[(track['release_date'].astype(int) <= 2021) & (track['release_date'].astype(int) >= 2000)].reset_index(drop=True)\n",
        "\n",
        "track_2000_2021.release_date"
      ]
    },
    {
      "cell_type": "code",
      "execution_count": null,
      "metadata": {
        "colab": {
          "base_uri": "https://localhost:8080/"
        },
        "id": "c9O49-loI6zR",
        "outputId": "e9f5b9a3-7d51-41f3-f301-f0d541ba3f2b"
      },
      "outputs": [
        {
          "output_type": "execute_result",
          "data": {
            "text/plain": [
              "count    203394.000000\n",
              "mean       2010.945170\n",
              "std           6.202101\n",
              "min        2000.000000\n",
              "25%        2006.000000\n",
              "50%        2011.000000\n",
              "75%        2016.000000\n",
              "max        2021.000000\n",
              "Name: release_date, dtype: float64"
            ]
          },
          "metadata": {},
          "execution_count": 16
        }
      ],
      "source": [
        "track.release_date.describe()"
      ]
    },
    {
      "cell_type": "code",
      "execution_count": null,
      "metadata": {
        "colab": {
          "base_uri": "https://localhost:8080/"
        },
        "id": "dGULyo0HI6zR",
        "outputId": "b3b5dd69-a035-48b9-afe3-a285ff3a9d2a"
      },
      "outputs": [
        {
          "data": {
            "text/plain": [
              "2020    12990\n",
              "1998    12475\n",
              "1999    12455\n",
              "1997    12334\n",
              "1996    12024\n",
              "        ...  \n",
              "1923      103\n",
              "1929       73\n",
              "1924       70\n",
              "1922        5\n",
              "1900        1\n",
              "Name: release_date, Length: 101, dtype: int64"
            ]
          },
          "execution_count": 16,
          "metadata": {},
          "output_type": "execute_result"
        }
      ],
      "source": [
        "track.release_date.value_counts()"
      ]
    },
    {
      "cell_type": "markdown",
      "metadata": {
        "id": "meHJnh0GI6zZ"
      },
      "source": [
        "# Outlier Detection"
      ]
    },
    {
      "cell_type": "code",
      "source": [
        "track.sort_values(by=\"release_date\")"
      ],
      "metadata": {
        "colab": {
          "base_uri": "https://localhost:8080/",
          "height": 424
        },
        "id": "Ny0ayZDP1Kjz",
        "outputId": "79abc671-a110-4df8-98e9-67f6a97457ca"
      },
      "execution_count": 20,
      "outputs": [
        {
          "output_type": "execute_result",
          "data": {
            "text/plain": [
              "        popularity  duration_ms  explicit  release_date  danceability  energy  \\\n",
              "0                6       126903         0          1922         0.645   0.445   \n",
              "13               1       186800         0          1922         0.703   0.280   \n",
              "26               4       180800         0          1922         0.420   0.288   \n",
              "132340           4       173893         0          1922         0.315   0.391   \n",
              "132316           1       186850         0          1922         0.756   0.652   \n",
              "...            ...          ...       ...           ...           ...     ...   \n",
              "400401           2       218520         0          2021         0.730   0.939   \n",
              "400402          59       285114         0          2021         0.586   0.915   \n",
              "400403          59       147567         1          2021         0.678   0.797   \n",
              "400391          60       183704         1          2021         0.475   0.795   \n",
              "390475          57       162694         1          2021         0.847   0.637   \n",
              "\n",
              "        key  loudness  mode  speechiness  acousticness  instrumentalness  \\\n",
              "0         0   -13.338     1       0.4510       0.67400          0.744000   \n",
              "13        0   -15.390     1       0.1740       0.99500          0.000068   \n",
              "26        7   -14.005     1       0.0701       0.99400          0.000216   \n",
              "132340    4    -7.220     0       0.0343       0.99600          0.587000   \n",
              "132316    5    -5.056     0       0.0575       0.53200          0.000000   \n",
              "...     ...       ...   ...          ...           ...               ...   \n",
              "400401   11    -4.665     0       0.0532       0.03470          0.000000   \n",
              "400402    8    -5.079     1       0.1200       0.02300          0.000249   \n",
              "400403    1    -2.957     0       0.0458       0.35700          0.000000   \n",
              "400391   11    -5.044     0       0.2820       0.00691          0.000000   \n",
              "390475   10    -5.613     0       0.0655       0.02000          0.000004   \n",
              "\n",
              "        liveness  valence    tempo  time_signature  \n",
              "0          0.151    0.127  104.851               3  \n",
              "13         0.163    0.897  127.531               4  \n",
              "26         0.196    0.400  139.575               3  \n",
              "132340     0.133    0.481  207.589               4  \n",
              "132316     0.666    0.941   91.478               4  \n",
              "...          ...      ...      ...             ...  \n",
              "400401     0.335    0.939  121.001               4  \n",
              "400402     0.397    0.425  144.092               1  \n",
              "400403     0.101    0.642  147.996               4  \n",
              "400391     0.145    0.340   80.736               4  \n",
              "390475     0.323    0.240  129.964               4  \n",
              "\n",
              "[571213 rows x 16 columns]"
            ],
            "text/html": [
              "\n",
              "  <div id=\"df-02c0589f-7af0-48d0-83be-678d7a07c3a5\">\n",
              "    <div class=\"colab-df-container\">\n",
              "      <div>\n",
              "<style scoped>\n",
              "    .dataframe tbody tr th:only-of-type {\n",
              "        vertical-align: middle;\n",
              "    }\n",
              "\n",
              "    .dataframe tbody tr th {\n",
              "        vertical-align: top;\n",
              "    }\n",
              "\n",
              "    .dataframe thead th {\n",
              "        text-align: right;\n",
              "    }\n",
              "</style>\n",
              "<table border=\"1\" class=\"dataframe\">\n",
              "  <thead>\n",
              "    <tr style=\"text-align: right;\">\n",
              "      <th></th>\n",
              "      <th>popularity</th>\n",
              "      <th>duration_ms</th>\n",
              "      <th>explicit</th>\n",
              "      <th>release_date</th>\n",
              "      <th>danceability</th>\n",
              "      <th>energy</th>\n",
              "      <th>key</th>\n",
              "      <th>loudness</th>\n",
              "      <th>mode</th>\n",
              "      <th>speechiness</th>\n",
              "      <th>acousticness</th>\n",
              "      <th>instrumentalness</th>\n",
              "      <th>liveness</th>\n",
              "      <th>valence</th>\n",
              "      <th>tempo</th>\n",
              "      <th>time_signature</th>\n",
              "    </tr>\n",
              "  </thead>\n",
              "  <tbody>\n",
              "    <tr>\n",
              "      <th>0</th>\n",
              "      <td>6</td>\n",
              "      <td>126903</td>\n",
              "      <td>0</td>\n",
              "      <td>1922</td>\n",
              "      <td>0.645</td>\n",
              "      <td>0.445</td>\n",
              "      <td>0</td>\n",
              "      <td>-13.338</td>\n",
              "      <td>1</td>\n",
              "      <td>0.4510</td>\n",
              "      <td>0.67400</td>\n",
              "      <td>0.744000</td>\n",
              "      <td>0.151</td>\n",
              "      <td>0.127</td>\n",
              "      <td>104.851</td>\n",
              "      <td>3</td>\n",
              "    </tr>\n",
              "    <tr>\n",
              "      <th>13</th>\n",
              "      <td>1</td>\n",
              "      <td>186800</td>\n",
              "      <td>0</td>\n",
              "      <td>1922</td>\n",
              "      <td>0.703</td>\n",
              "      <td>0.280</td>\n",
              "      <td>0</td>\n",
              "      <td>-15.390</td>\n",
              "      <td>1</td>\n",
              "      <td>0.1740</td>\n",
              "      <td>0.99500</td>\n",
              "      <td>0.000068</td>\n",
              "      <td>0.163</td>\n",
              "      <td>0.897</td>\n",
              "      <td>127.531</td>\n",
              "      <td>4</td>\n",
              "    </tr>\n",
              "    <tr>\n",
              "      <th>26</th>\n",
              "      <td>4</td>\n",
              "      <td>180800</td>\n",
              "      <td>0</td>\n",
              "      <td>1922</td>\n",
              "      <td>0.420</td>\n",
              "      <td>0.288</td>\n",
              "      <td>7</td>\n",
              "      <td>-14.005</td>\n",
              "      <td>1</td>\n",
              "      <td>0.0701</td>\n",
              "      <td>0.99400</td>\n",
              "      <td>0.000216</td>\n",
              "      <td>0.196</td>\n",
              "      <td>0.400</td>\n",
              "      <td>139.575</td>\n",
              "      <td>3</td>\n",
              "    </tr>\n",
              "    <tr>\n",
              "      <th>132340</th>\n",
              "      <td>4</td>\n",
              "      <td>173893</td>\n",
              "      <td>0</td>\n",
              "      <td>1922</td>\n",
              "      <td>0.315</td>\n",
              "      <td>0.391</td>\n",
              "      <td>4</td>\n",
              "      <td>-7.220</td>\n",
              "      <td>0</td>\n",
              "      <td>0.0343</td>\n",
              "      <td>0.99600</td>\n",
              "      <td>0.587000</td>\n",
              "      <td>0.133</td>\n",
              "      <td>0.481</td>\n",
              "      <td>207.589</td>\n",
              "      <td>4</td>\n",
              "    </tr>\n",
              "    <tr>\n",
              "      <th>132316</th>\n",
              "      <td>1</td>\n",
              "      <td>186850</td>\n",
              "      <td>0</td>\n",
              "      <td>1922</td>\n",
              "      <td>0.756</td>\n",
              "      <td>0.652</td>\n",
              "      <td>5</td>\n",
              "      <td>-5.056</td>\n",
              "      <td>0</td>\n",
              "      <td>0.0575</td>\n",
              "      <td>0.53200</td>\n",
              "      <td>0.000000</td>\n",
              "      <td>0.666</td>\n",
              "      <td>0.941</td>\n",
              "      <td>91.478</td>\n",
              "      <td>4</td>\n",
              "    </tr>\n",
              "    <tr>\n",
              "      <th>...</th>\n",
              "      <td>...</td>\n",
              "      <td>...</td>\n",
              "      <td>...</td>\n",
              "      <td>...</td>\n",
              "      <td>...</td>\n",
              "      <td>...</td>\n",
              "      <td>...</td>\n",
              "      <td>...</td>\n",
              "      <td>...</td>\n",
              "      <td>...</td>\n",
              "      <td>...</td>\n",
              "      <td>...</td>\n",
              "      <td>...</td>\n",
              "      <td>...</td>\n",
              "      <td>...</td>\n",
              "      <td>...</td>\n",
              "    </tr>\n",
              "    <tr>\n",
              "      <th>400401</th>\n",
              "      <td>2</td>\n",
              "      <td>218520</td>\n",
              "      <td>0</td>\n",
              "      <td>2021</td>\n",
              "      <td>0.730</td>\n",
              "      <td>0.939</td>\n",
              "      <td>11</td>\n",
              "      <td>-4.665</td>\n",
              "      <td>0</td>\n",
              "      <td>0.0532</td>\n",
              "      <td>0.03470</td>\n",
              "      <td>0.000000</td>\n",
              "      <td>0.335</td>\n",
              "      <td>0.939</td>\n",
              "      <td>121.001</td>\n",
              "      <td>4</td>\n",
              "    </tr>\n",
              "    <tr>\n",
              "      <th>400402</th>\n",
              "      <td>59</td>\n",
              "      <td>285114</td>\n",
              "      <td>0</td>\n",
              "      <td>2021</td>\n",
              "      <td>0.586</td>\n",
              "      <td>0.915</td>\n",
              "      <td>8</td>\n",
              "      <td>-5.079</td>\n",
              "      <td>1</td>\n",
              "      <td>0.1200</td>\n",
              "      <td>0.02300</td>\n",
              "      <td>0.000249</td>\n",
              "      <td>0.397</td>\n",
              "      <td>0.425</td>\n",
              "      <td>144.092</td>\n",
              "      <td>1</td>\n",
              "    </tr>\n",
              "    <tr>\n",
              "      <th>400403</th>\n",
              "      <td>59</td>\n",
              "      <td>147567</td>\n",
              "      <td>1</td>\n",
              "      <td>2021</td>\n",
              "      <td>0.678</td>\n",
              "      <td>0.797</td>\n",
              "      <td>1</td>\n",
              "      <td>-2.957</td>\n",
              "      <td>0</td>\n",
              "      <td>0.0458</td>\n",
              "      <td>0.35700</td>\n",
              "      <td>0.000000</td>\n",
              "      <td>0.101</td>\n",
              "      <td>0.642</td>\n",
              "      <td>147.996</td>\n",
              "      <td>4</td>\n",
              "    </tr>\n",
              "    <tr>\n",
              "      <th>400391</th>\n",
              "      <td>60</td>\n",
              "      <td>183704</td>\n",
              "      <td>1</td>\n",
              "      <td>2021</td>\n",
              "      <td>0.475</td>\n",
              "      <td>0.795</td>\n",
              "      <td>11</td>\n",
              "      <td>-5.044</td>\n",
              "      <td>0</td>\n",
              "      <td>0.2820</td>\n",
              "      <td>0.00691</td>\n",
              "      <td>0.000000</td>\n",
              "      <td>0.145</td>\n",
              "      <td>0.340</td>\n",
              "      <td>80.736</td>\n",
              "      <td>4</td>\n",
              "    </tr>\n",
              "    <tr>\n",
              "      <th>390475</th>\n",
              "      <td>57</td>\n",
              "      <td>162694</td>\n",
              "      <td>1</td>\n",
              "      <td>2021</td>\n",
              "      <td>0.847</td>\n",
              "      <td>0.637</td>\n",
              "      <td>10</td>\n",
              "      <td>-5.613</td>\n",
              "      <td>0</td>\n",
              "      <td>0.0655</td>\n",
              "      <td>0.02000</td>\n",
              "      <td>0.000004</td>\n",
              "      <td>0.323</td>\n",
              "      <td>0.240</td>\n",
              "      <td>129.964</td>\n",
              "      <td>4</td>\n",
              "    </tr>\n",
              "  </tbody>\n",
              "</table>\n",
              "<p>571213 rows × 16 columns</p>\n",
              "</div>\n",
              "      <button class=\"colab-df-convert\" onclick=\"convertToInteractive('df-02c0589f-7af0-48d0-83be-678d7a07c3a5')\"\n",
              "              title=\"Convert this dataframe to an interactive table.\"\n",
              "              style=\"display:none;\">\n",
              "        \n",
              "  <svg xmlns=\"http://www.w3.org/2000/svg\" height=\"24px\"viewBox=\"0 0 24 24\"\n",
              "       width=\"24px\">\n",
              "    <path d=\"M0 0h24v24H0V0z\" fill=\"none\"/>\n",
              "    <path d=\"M18.56 5.44l.94 2.06.94-2.06 2.06-.94-2.06-.94-.94-2.06-.94 2.06-2.06.94zm-11 1L8.5 8.5l.94-2.06 2.06-.94-2.06-.94L8.5 2.5l-.94 2.06-2.06.94zm10 10l.94 2.06.94-2.06 2.06-.94-2.06-.94-.94-2.06-.94 2.06-2.06.94z\"/><path d=\"M17.41 7.96l-1.37-1.37c-.4-.4-.92-.59-1.43-.59-.52 0-1.04.2-1.43.59L10.3 9.45l-7.72 7.72c-.78.78-.78 2.05 0 2.83L4 21.41c.39.39.9.59 1.41.59.51 0 1.02-.2 1.41-.59l7.78-7.78 2.81-2.81c.8-.78.8-2.07 0-2.86zM5.41 20L4 18.59l7.72-7.72 1.47 1.35L5.41 20z\"/>\n",
              "  </svg>\n",
              "      </button>\n",
              "      \n",
              "  <style>\n",
              "    .colab-df-container {\n",
              "      display:flex;\n",
              "      flex-wrap:wrap;\n",
              "      gap: 12px;\n",
              "    }\n",
              "\n",
              "    .colab-df-convert {\n",
              "      background-color: #E8F0FE;\n",
              "      border: none;\n",
              "      border-radius: 50%;\n",
              "      cursor: pointer;\n",
              "      display: none;\n",
              "      fill: #1967D2;\n",
              "      height: 32px;\n",
              "      padding: 0 0 0 0;\n",
              "      width: 32px;\n",
              "    }\n",
              "\n",
              "    .colab-df-convert:hover {\n",
              "      background-color: #E2EBFA;\n",
              "      box-shadow: 0px 1px 2px rgba(60, 64, 67, 0.3), 0px 1px 3px 1px rgba(60, 64, 67, 0.15);\n",
              "      fill: #174EA6;\n",
              "    }\n",
              "\n",
              "    [theme=dark] .colab-df-convert {\n",
              "      background-color: #3B4455;\n",
              "      fill: #D2E3FC;\n",
              "    }\n",
              "\n",
              "    [theme=dark] .colab-df-convert:hover {\n",
              "      background-color: #434B5C;\n",
              "      box-shadow: 0px 1px 3px 1px rgba(0, 0, 0, 0.15);\n",
              "      filter: drop-shadow(0px 1px 2px rgba(0, 0, 0, 0.3));\n",
              "      fill: #FFFFFF;\n",
              "    }\n",
              "  </style>\n",
              "\n",
              "      <script>\n",
              "        const buttonEl =\n",
              "          document.querySelector('#df-02c0589f-7af0-48d0-83be-678d7a07c3a5 button.colab-df-convert');\n",
              "        buttonEl.style.display =\n",
              "          google.colab.kernel.accessAllowed ? 'block' : 'none';\n",
              "\n",
              "        async function convertToInteractive(key) {\n",
              "          const element = document.querySelector('#df-02c0589f-7af0-48d0-83be-678d7a07c3a5');\n",
              "          const dataTable =\n",
              "            await google.colab.kernel.invokeFunction('convertToInteractive',\n",
              "                                                     [key], {});\n",
              "          if (!dataTable) return;\n",
              "\n",
              "          const docLinkHtml = 'Like what you see? Visit the ' +\n",
              "            '<a target=\"_blank\" href=https://colab.research.google.com/notebooks/data_table.ipynb>data table notebook</a>'\n",
              "            + ' to learn more about interactive tables.';\n",
              "          element.innerHTML = '';\n",
              "          dataTable['output_type'] = 'display_data';\n",
              "          await google.colab.output.renderOutput(dataTable, element);\n",
              "          const docLink = document.createElement('div');\n",
              "          docLink.innerHTML = docLinkHtml;\n",
              "          element.appendChild(docLink);\n",
              "        }\n",
              "      </script>\n",
              "    </div>\n",
              "  </div>\n",
              "  "
            ]
          },
          "metadata": {},
          "execution_count": 20
        }
      ]
    },
    {
      "cell_type": "code",
      "execution_count": 21,
      "metadata": {
        "colab": {
          "base_uri": "https://localhost:8080/",
          "height": 929
        },
        "id": "SwFxYGgXI6zZ",
        "outputId": "6040f358-e22c-495a-ce25-0f1a551b1d50"
      },
      "outputs": [
        {
          "output_type": "display_data",
          "data": {
            "text/plain": [
              "<Figure size 1440x1152 with 16 Axes>"
            ],
            "image/png": "[encoded data removed]"
          },
          "metadata": {}
        }
      ],
      "source": [
        "plt.figure(figsize=(20,16))\n",
        "for i in range(len(track.columns)):\n",
        "    plt.subplot(4,4,i+1)\n",
        "    sns.boxplot(data = track[track.columns[i]])\n",
        "plt.show()"
      ]
    },
    {
      "cell_type": "code",
      "source": [
        "track.tempo.describe()"
      ],
      "metadata": {
        "colab": {
          "base_uri": "https://localhost:8080/"
        },
        "id": "Mq03Y8GS8SsB",
        "outputId": "4238bd09-844e-418c-9f07-83cde3e7afdc"
      },
      "execution_count": 22,
      "outputs": [
        {
          "output_type": "execute_result",
          "data": {
            "text/plain": [
              "count    571213.000000\n",
              "mean        118.629688\n",
              "std          29.674720\n",
              "min           0.000000\n",
              "25%          95.835000\n",
              "50%         117.697000\n",
              "75%         136.571000\n",
              "max         246.381000\n",
              "Name: tempo, dtype: float64"
            ]
          },
          "metadata": {},
          "execution_count": 22
        }
      ]
    },
    {
      "cell_type": "code",
      "source": [
        "zeroTempo = track[track['tempo'].astype(int) == 0].index\n",
        "track.drop(zeroTempo, inplace=True)\n",
        "track.reset_index(drop=True)"
      ],
      "metadata": {
        "colab": {
          "base_uri": "https://localhost:8080/",
          "height": 424
        },
        "id": "jz-IciHF-r2h",
        "outputId": "5304bf84-d6c0-4c38-f41c-2619981d4450"
      },
      "execution_count": 23,
      "outputs": [
        {
          "output_type": "execute_result",
          "data": {
            "text/plain": [
              "        popularity  duration_ms  explicit  release_date  danceability  energy  \\\n",
              "0                6       126903         0          1922         0.645  0.4450   \n",
              "1                1       186800         0          1922         0.703  0.2800   \n",
              "2                4       180800         0          1922         0.420  0.2880   \n",
              "3               41       177133         0          1923         0.614  0.0423   \n",
              "4               38       161933         0          1923         0.831  0.2620   \n",
              "...            ...          ...       ...           ...           ...     ...   \n",
              "570900          50       258267         0          2020         0.560  0.5180   \n",
              "570901          72       153293         0          2020         0.765  0.6630   \n",
              "570902          70       187601         0          2020         0.535  0.3140   \n",
              "570903          58       142003         0          2021         0.696  0.6150   \n",
              "570904          38       214360         0          2015         0.686  0.7230   \n",
              "\n",
              "        key  loudness  mode  speechiness  acousticness  instrumentalness  \\\n",
              "0         0   -13.338     1       0.4510         0.674          0.744000   \n",
              "1         0   -15.390     1       0.1740         0.995          0.000068   \n",
              "2         7   -14.005     1       0.0701         0.994          0.000216   \n",
              "3         4   -12.033     1       0.0535         0.996          0.002930   \n",
              "4         8   -12.386     1       0.0942         0.984          0.912000   \n",
              "...     ...       ...   ...          ...           ...               ...   \n",
              "570900    0    -7.471     0       0.0292         0.785          0.000000   \n",
              "570901    0    -5.223     1       0.0652         0.141          0.000297   \n",
              "570902    7   -12.823     0       0.0408         0.895          0.000150   \n",
              "570903   10    -6.212     1       0.0345         0.206          0.000003   \n",
              "570904    6    -7.067     1       0.0363         0.105          0.000000   \n",
              "\n",
              "        liveness  valence    tempo  time_signature  \n",
              "0         0.1510   0.1270  104.851               3  \n",
              "1         0.1630   0.8970  127.531               4  \n",
              "2         0.1960   0.4000  139.575               3  \n",
              "3         0.1830   0.2110   89.822               4  \n",
              "4         0.2040   0.9010  104.606               4  \n",
              "...          ...      ...      ...             ...  \n",
              "570900    0.0648   0.2110  131.896               4  \n",
              "570901    0.0924   0.6860  150.091               4  \n",
              "570902    0.0874   0.0663  145.095               4  \n",
              "570903    0.3050   0.4380   90.029               4  \n",
              "570904    0.2640   0.9750  112.204               4  \n",
              "\n",
              "[570905 rows x 16 columns]"
            ],
            "text/html": [
              "\n",
              "  <div id=\"df-ef60a81c-bad6-4267-bf8c-fafb14226050\">\n",
              "    <div class=\"colab-df-container\">\n",
              "      <div>\n",
              "<style scoped>\n",
              "    .dataframe tbody tr th:only-of-type {\n",
              "        vertical-align: middle;\n",
              "    }\n",
              "\n",
              "    .dataframe tbody tr th {\n",
              "        vertical-align: top;\n",
              "    }\n",
              "\n",
              "    .dataframe thead th {\n",
              "        text-align: right;\n",
              "    }\n",
              "</style>\n",
              "<table border=\"1\" class=\"dataframe\">\n",
              "  <thead>\n",
              "    <tr style=\"text-align: right;\">\n",
              "      <th></th>\n",
              "      <th>popularity</th>\n",
              "      <th>duration_ms</th>\n",
              "      <th>explicit</th>\n",
              "      <th>release_date</th>\n",
              "      <th>danceability</th>\n",
              "      <th>energy</th>\n",
              "      <th>key</th>\n",
              "      <th>loudness</th>\n",
              "      <th>mode</th>\n",
              "      <th>speechiness</th>\n",
              "      <th>acousticness</th>\n",
              "      <th>instrumentalness</th>\n",
              "      <th>liveness</th>\n",
              "      <th>valence</th>\n",
              "      <th>tempo</th>\n",
              "      <th>time_signature</th>\n",
              "    </tr>\n",
              "  </thead>\n",
              "  <tbody>\n",
              "    <tr>\n",
              "      <th>0</th>\n",
              "      <td>6</td>\n",
              "      <td>126903</td>\n",
              "      <td>0</td>\n",
              "      <td>1922</td>\n",
              "      <td>0.645</td>\n",
              "      <td>0.4450</td>\n",
              "      <td>0</td>\n",
              "      <td>-13.338</td>\n",
              "      <td>1</td>\n",
              "      <td>0.4510</td>\n",
              "      <td>0.674</td>\n",
              "      <td>0.744000</td>\n",
              "      <td>0.1510</td>\n",
              "      <td>0.1270</td>\n",
              "      <td>104.851</td>\n",
              "      <td>3</td>\n",
              "    </tr>\n",
              "    <tr>\n",
              "      <th>1</th>\n",
              "      <td>1</td>\n",
              "      <td>186800</td>\n",
              "      <td>0</td>\n",
              "      <td>1922</td>\n",
              "      <td>0.703</td>\n",
              "      <td>0.2800</td>\n",
              "      <td>0</td>\n",
              "      <td>-15.390</td>\n",
              "      <td>1</td>\n",
              "      <td>0.1740</td>\n",
              "      <td>0.995</td>\n",
              "      <td>0.000068</td>\n",
              "      <td>0.1630</td>\n",
              "      <td>0.8970</td>\n",
              "      <td>127.531</td>\n",
              "      <td>4</td>\n",
              "    </tr>\n",
              "    <tr>\n",
              "      <th>2</th>\n",
              "      <td>4</td>\n",
              "      <td>180800</td>\n",
              "      <td>0</td>\n",
              "      <td>1922</td>\n",
              "      <td>0.420</td>\n",
              "      <td>0.2880</td>\n",
              "      <td>7</td>\n",
              "      <td>-14.005</td>\n",
              "      <td>1</td>\n",
              "      <td>0.0701</td>\n",
              "      <td>0.994</td>\n",
              "      <td>0.000216</td>\n",
              "      <td>0.1960</td>\n",
              "      <td>0.4000</td>\n",
              "      <td>139.575</td>\n",
              "      <td>3</td>\n",
              "    </tr>\n",
              "    <tr>\n",
              "      <th>3</th>\n",
              "      <td>41</td>\n",
              "      <td>177133</td>\n",
              "      <td>0</td>\n",
              "      <td>1923</td>\n",
              "      <td>0.614</td>\n",
              "      <td>0.0423</td>\n",
              "      <td>4</td>\n",
              "      <td>-12.033</td>\n",
              "      <td>1</td>\n",
              "      <td>0.0535</td>\n",
              "      <td>0.996</td>\n",
              "      <td>0.002930</td>\n",
              "      <td>0.1830</td>\n",
              "      <td>0.2110</td>\n",
              "      <td>89.822</td>\n",
              "      <td>4</td>\n",
              "    </tr>\n",
              "    <tr>\n",
              "      <th>4</th>\n",
              "      <td>38</td>\n",
              "      <td>161933</td>\n",
              "      <td>0</td>\n",
              "      <td>1923</td>\n",
              "      <td>0.831</td>\n",
              "      <td>0.2620</td>\n",
              "      <td>8</td>\n",
              "      <td>-12.386</td>\n",
              "      <td>1</td>\n",
              "      <td>0.0942</td>\n",
              "      <td>0.984</td>\n",
              "      <td>0.912000</td>\n",
              "      <td>0.2040</td>\n",
              "      <td>0.9010</td>\n",
              "      <td>104.606</td>\n",
              "      <td>4</td>\n",
              "    </tr>\n",
              "    <tr>\n",
              "      <th>...</th>\n",
              "      <td>...</td>\n",
              "      <td>...</td>\n",
              "      <td>...</td>\n",
              "      <td>...</td>\n",
              "      <td>...</td>\n",
              "      <td>...</td>\n",
              "      <td>...</td>\n",
              "      <td>...</td>\n",
              "      <td>...</td>\n",
              "      <td>...</td>\n",
              "      <td>...</td>\n",
              "      <td>...</td>\n",
              "      <td>...</td>\n",
              "      <td>...</td>\n",
              "      <td>...</td>\n",
              "      <td>...</td>\n",
              "    </tr>\n",
              "    <tr>\n",
              "      <th>570900</th>\n",
              "      <td>50</td>\n",
              "      <td>258267</td>\n",
              "      <td>0</td>\n",
              "      <td>2020</td>\n",
              "      <td>0.560</td>\n",
              "      <td>0.5180</td>\n",
              "      <td>0</td>\n",
              "      <td>-7.471</td>\n",
              "      <td>0</td>\n",
              "      <td>0.0292</td>\n",
              "      <td>0.785</td>\n",
              "      <td>0.000000</td>\n",
              "      <td>0.0648</td>\n",
              "      <td>0.2110</td>\n",
              "      <td>131.896</td>\n",
              "      <td>4</td>\n",
              "    </tr>\n",
              "    <tr>\n",
              "      <th>570901</th>\n",
              "      <td>72</td>\n",
              "      <td>153293</td>\n",
              "      <td>0</td>\n",
              "      <td>2020</td>\n",
              "      <td>0.765</td>\n",
              "      <td>0.6630</td>\n",
              "      <td>0</td>\n",
              "      <td>-5.223</td>\n",
              "      <td>1</td>\n",
              "      <td>0.0652</td>\n",
              "      <td>0.141</td>\n",
              "      <td>0.000297</td>\n",
              "      <td>0.0924</td>\n",
              "      <td>0.6860</td>\n",
              "      <td>150.091</td>\n",
              "      <td>4</td>\n",
              "    </tr>\n",
              "    <tr>\n",
              "      <th>570902</th>\n",
              "      <td>70</td>\n",
              "      <td>187601</td>\n",
              "      <td>0</td>\n",
              "      <td>2020</td>\n",
              "      <td>0.535</td>\n",
              "      <td>0.3140</td>\n",
              "      <td>7</td>\n",
              "      <td>-12.823</td>\n",
              "      <td>0</td>\n",
              "      <td>0.0408</td>\n",
              "      <td>0.895</td>\n",
              "      <td>0.000150</td>\n",
              "      <td>0.0874</td>\n",
              "      <td>0.0663</td>\n",
              "      <td>145.095</td>\n",
              "      <td>4</td>\n",
              "    </tr>\n",
              "    <tr>\n",
              "      <th>570903</th>\n",
              "      <td>58</td>\n",
              "      <td>142003</td>\n",
              "      <td>0</td>\n",
              "      <td>2021</td>\n",
              "      <td>0.696</td>\n",
              "      <td>0.6150</td>\n",
              "      <td>10</td>\n",
              "      <td>-6.212</td>\n",
              "      <td>1</td>\n",
              "      <td>0.0345</td>\n",
              "      <td>0.206</td>\n",
              "      <td>0.000003</td>\n",
              "      <td>0.3050</td>\n",
              "      <td>0.4380</td>\n",
              "      <td>90.029</td>\n",
              "      <td>4</td>\n",
              "    </tr>\n",
              "    <tr>\n",
              "      <th>570904</th>\n",
              "      <td>38</td>\n",
              "      <td>214360</td>\n",
              "      <td>0</td>\n",
              "      <td>2015</td>\n",
              "      <td>0.686</td>\n",
              "      <td>0.7230</td>\n",
              "      <td>6</td>\n",
              "      <td>-7.067</td>\n",
              "      <td>1</td>\n",
              "      <td>0.0363</td>\n",
              "      <td>0.105</td>\n",
              "      <td>0.000000</td>\n",
              "      <td>0.2640</td>\n",
              "      <td>0.9750</td>\n",
              "      <td>112.204</td>\n",
              "      <td>4</td>\n",
              "    </tr>\n",
              "  </tbody>\n",
              "</table>\n",
              "<p>570905 rows × 16 columns</p>\n",
              "</div>\n",
              "      <button class=\"colab-df-convert\" onclick=\"convertToInteractive('df-ef60a81c-bad6-4267-bf8c-fafb14226050')\"\n",
              "              title=\"Convert this dataframe to an interactive table.\"\n",
              "              style=\"display:none;\">\n",
              "        \n",
              "  <svg xmlns=\"http://www.w3.org/2000/svg\" height=\"24px\"viewBox=\"0 0 24 24\"\n",
              "       width=\"24px\">\n",
              "    <path d=\"M0 0h24v24H0V0z\" fill=\"none\"/>\n",
              "    <path d=\"M18.56 5.44l.94 2.06.94-2.06 2.06-.94-2.06-.94-.94-2.06-.94 2.06-2.06.94zm-11 1L8.5 8.5l.94-2.06 2.06-.94-2.06-.94L8.5 2.5l-.94 2.06-2.06.94zm10 10l.94 2.06.94-2.06 2.06-.94-2.06-.94-.94-2.06-.94 2.06-2.06.94z\"/><path d=\"M17.41 7.96l-1.37-1.37c-.4-.4-.92-.59-1.43-.59-.52 0-1.04.2-1.43.59L10.3 9.45l-7.72 7.72c-.78.78-.78 2.05 0 2.83L4 21.41c.39.39.9.59 1.41.59.51 0 1.02-.2 1.41-.59l7.78-7.78 2.81-2.81c.8-.78.8-2.07 0-2.86zM5.41 20L4 18.59l7.72-7.72 1.47 1.35L5.41 20z\"/>\n",
              "  </svg>\n",
              "      </button>\n",
              "      \n",
              "  <style>\n",
              "    .colab-df-container {\n",
              "      display:flex;\n",
              "      flex-wrap:wrap;\n",
              "      gap: 12px;\n",
              "    }\n",
              "\n",
              "    .colab-df-convert {\n",
              "      background-color: #E8F0FE;\n",
              "      border: none;\n",
              "      border-radius: 50%;\n",
              "      cursor: pointer;\n",
              "      display: none;\n",
              "      fill: #1967D2;\n",
              "      height: 32px;\n",
              "      padding: 0 0 0 0;\n",
              "      width: 32px;\n",
              "    }\n",
              "\n",
              "    .colab-df-convert:hover {\n",
              "      background-color: #E2EBFA;\n",
              "      box-shadow: 0px 1px 2px rgba(60, 64, 67, 0.3), 0px 1px 3px 1px rgba(60, 64, 67, 0.15);\n",
              "      fill: #174EA6;\n",
              "    }\n",
              "\n",
              "    [theme=dark] .colab-df-convert {\n",
              "      background-color: #3B4455;\n",
              "      fill: #D2E3FC;\n",
              "    }\n",
              "\n",
              "    [theme=dark] .colab-df-convert:hover {\n",
              "      background-color: #434B5C;\n",
              "      box-shadow: 0px 1px 3px 1px rgba(0, 0, 0, 0.15);\n",
              "      filter: drop-shadow(0px 1px 2px rgba(0, 0, 0, 0.3));\n",
              "      fill: #FFFFFF;\n",
              "    }\n",
              "  </style>\n",
              "\n",
              "      <script>\n",
              "        const buttonEl =\n",
              "          document.querySelector('#df-ef60a81c-bad6-4267-bf8c-fafb14226050 button.colab-df-convert');\n",
              "        buttonEl.style.display =\n",
              "          google.colab.kernel.accessAllowed ? 'block' : 'none';\n",
              "\n",
              "        async function convertToInteractive(key) {\n",
              "          const element = document.querySelector('#df-ef60a81c-bad6-4267-bf8c-fafb14226050');\n",
              "          const dataTable =\n",
              "            await google.colab.kernel.invokeFunction('convertToInteractive',\n",
              "                                                     [key], {});\n",
              "          if (!dataTable) return;\n",
              "\n",
              "          const docLinkHtml = 'Like what you see? Visit the ' +\n",
              "            '<a target=\"_blank\" href=https://colab.research.google.com/notebooks/data_table.ipynb>data table notebook</a>'\n",
              "            + ' to learn more about interactive tables.';\n",
              "          element.innerHTML = '';\n",
              "          dataTable['output_type'] = 'display_data';\n",
              "          await google.colab.output.renderOutput(dataTable, element);\n",
              "          const docLink = document.createElement('div');\n",
              "          docLink.innerHTML = docLinkHtml;\n",
              "          element.appendChild(docLink);\n",
              "        }\n",
              "      </script>\n",
              "    </div>\n",
              "  </div>\n",
              "  "
            ]
          },
          "metadata": {},
          "execution_count": 23
        }
      ]
    },
    {
      "cell_type": "code",
      "execution_count": 24,
      "metadata": {
        "id": "ZpLT4_NPI6zZ"
      },
      "outputs": [],
      "source": [
        "def get_outlier_counts(df, treshold):\n",
        "    df = df.copy()\n",
        "    #Get z-score for specified treshold. shitft and scale, ne kadar mean den uzaklar ı hesaplarız.\n",
        "    treshold_z_score = stats.norm.ppf(treshold) #norm distribution. ppf: percent point funct. scipy içindfe bir istatik func. cdf nin tersi\n",
        "\n",
        "    #get the z-scores for each value in track \n",
        "    z_score_df = pd.DataFrame(np.abs(stats.zscore(df)), columns=df.columns)\n",
        "    \n",
        "    #compare df z-scores to the treshold, Return the count of outliers in each column\n",
        "    return (z_score_df > treshold_z_score).sum(axis=0)"
      ]
    },
    {
      "cell_type": "code",
      "source": [
        "get_outlier_counts(track, 0.999999995)"
      ],
      "metadata": {
        "colab": {
          "base_uri": "https://localhost:8080/"
        },
        "id": "CncNAnXJywMk",
        "outputId": "3429ebc8-a45a-4e53-8f15-0ef0fa81025c"
      },
      "execution_count": 25,
      "outputs": [
        {
          "output_type": "execute_result",
          "data": {
            "text/plain": [
              "popularity             0\n",
              "duration_ms         1727\n",
              "explicit               0\n",
              "release_date           0\n",
              "danceability           0\n",
              "energy                 0\n",
              "key                    0\n",
              "loudness             205\n",
              "mode                   0\n",
              "speechiness            0\n",
              "acousticness           0\n",
              "instrumentalness       0\n",
              "liveness               0\n",
              "valence                0\n",
              "tempo                  0\n",
              "time_signature      6198\n",
              "dtype: int64"
            ]
          },
          "metadata": {},
          "execution_count": 25
        }
      ]
    },
    {
      "cell_type": "code",
      "execution_count": 26,
      "metadata": {
        "id": "vsXg7uxHI6za"
      },
      "outputs": [],
      "source": [
        "def remove_outliers(df, treshold):\n",
        "\n",
        "    df = df.copy()\n",
        "    #Get z-score for specified treshold\n",
        "    treshold_z_score = stats.norm.ppf(treshold)\n",
        "\n",
        "    #get the z-scores for each value in track and compare them to the treshold\n",
        "    z_score_df = pd.DataFrame(np.abs(stats.zscore(df)), columns=df.columns)\n",
        "    z_score_df.time_signature = treshold_z_score  # treshold is not needed for time signature\n",
        "\n",
        "    z_score_df = z_score_df > treshold_z_score\n",
        "    # Get indicies of outliers\n",
        "    outliers = z_score_df.sum(axis=1) # her rowdaki outliers toplamı\n",
        "    outliers = outliers > 0\n",
        "\n",
        "    outliers_indicies = df.index[outliers]\n",
        "\n",
        "    #Drop outliers\n",
        "    df = df.drop(outliers_indicies, axis=0).reset_index(drop=True)\n",
        "\n",
        "    return df"
      ]
    },
    {
      "cell_type": "code",
      "execution_count": 27,
      "metadata": {
        "id": "gb56zmCKI6zb"
      },
      "outputs": [],
      "source": [
        "track = remove_outliers(track, 0.999999995)"
      ]
    },
    {
      "cell_type": "code",
      "source": [
        "plt.figure(figsize=(20,16))\n",
        "for i in range(len(track.columns)):\n",
        "    plt.subplot(4,4,i+1)\n",
        "    sns.boxplot(data = track[track.columns[i]])\n",
        "plt.show()"
      ],
      "metadata": {
        "colab": {
          "base_uri": "https://localhost:8080/",
          "height": 918
        },
        "id": "rp7zeP7p0cYd",
        "outputId": "09f6e77b-60fa-48ac-ad6b-ba3f21351e9e"
      },
      "execution_count": 28,
      "outputs": [
        {
          "output_type": "display_data",
          "data": {
            "text/plain": [
              "<Figure size 1440x1152 with 16 Axes>"
            ],
            "image/png": "[encoded data removed]"
          },
          "metadata": {}
        }
      ]
    },
    {
      "cell_type": "code",
      "source": [
        "track.time_signature.describe()"
      ],
      "metadata": {
        "colab": {
          "base_uri": "https://localhost:8080/"
        },
        "id": "58vx_28p2hqL",
        "outputId": "88b66bf0-1bdd-4054-9a76-2423baeabbae"
      },
      "execution_count": 29,
      "outputs": [
        {
          "output_type": "execute_result",
          "data": {
            "text/plain": [
              "count    568974.000000\n",
              "mean          3.878617\n",
              "std           0.457287\n",
              "min           0.000000\n",
              "25%           4.000000\n",
              "50%           4.000000\n",
              "75%           4.000000\n",
              "max           5.000000\n",
              "Name: time_signature, dtype: float64"
            ]
          },
          "metadata": {},
          "execution_count": 29
        }
      ]
    },
    {
      "cell_type": "markdown",
      "source": [
        "# **Normalization**"
      ],
      "metadata": {
        "id": "rD9017GXHeDA"
      }
    },
    {
      "cell_type": "code",
      "execution_count": 35,
      "metadata": {
        "id": "SfBft5OdsRo9"
      },
      "outputs": [],
      "source": [
        "from sklearn.preprocessing import MinMaxScaler"
      ]
    },
    {
      "cell_type": "code",
      "execution_count": 36,
      "metadata": {
        "id": "OC207vMRI6zb"
      },
      "outputs": [],
      "source": [
        "def preprocess_inputs(df, outliers=True, treshold=1):\n",
        "    df = df.copy()\n",
        "    if outliers == False:\n",
        "        df = remove_outliers(df, treshold)\n",
        "\n",
        "    df = df.drop('release_date', axis=1)\n",
        "    y = df['popularity'].values\n",
        "    x = df.drop('popularity', axis=1).values\n",
        "\n",
        "    \n",
        "    x_train, x_test, y_train, y_test = train_test_split(x, y, test_size=0.33, random_state=24)\n",
        "\n",
        "    #scale data with standart scale\n",
        "    scaler = MinMaxScaler()\n",
        "    scaler.fit(x_train)\n",
        "    \n",
        "    x_train = scaler.transform(x_train)\n",
        "    x_test = scaler.transform(x_test)\n",
        "\n",
        "    return x_train, x_test, y_train, y_test\n"
      ]
    },
    {
      "cell_type": "code",
      "execution_count": 37,
      "metadata": {
        "id": "-uQiclgfI6zb"
      },
      "outputs": [],
      "source": [
        "outlier_x_train, outlier_x_test, outlier_y_train, outlier_y_test = preprocess_inputs(track, outliers=False, treshold=0.999999995)\n",
        "x_train, x_test, y_train, y_test = preprocess_inputs(track, outliers=True)\n",
        "# x_train_1, x_test_1, y_train_1, y_test_1 = preprocess_inputs(track_1920_1940, outliers=True)\n",
        "# x_train_2, x_test_2, y_train_2, y_test_2 = preprocess_inputs(track_1940_1960, outliers=True)\n",
        "# x_train_3, x_test_3, y_train_3, y_test_3 = preprocess_inputs(track_1960_1980, outliers=True)\n",
        "# x_train_4, x_test_4, y_train_4, y_test_4 = preprocess_inputs(track_1980_2000, outliers=True)\n",
        "# x_train_5, x_test_5, y_train_5, y_test_5 = preprocess_inputs(track_2000_2021, outliers=True)\n"
      ]
    },
    {
      "cell_type": "markdown",
      "source": [
        "# **Test outlier detection**"
      ],
      "metadata": {
        "id": "5nB6tuDXINHw"
      }
    },
    {
      "cell_type": "code",
      "source": [
        "outlier_model = LinearRegression()\n",
        "outlier_model.fit(outlier_x_train, outlier_y_train)\n",
        "\n",
        "outlier_model_acc = outlier_model.score(outlier_x_test, outlier_y_test)\n",
        "\n",
        "print(\"Test acc - outliers: {:.5f}\".format(outlier_model_acc * 100))"
      ],
      "metadata": {
        "colab": {
          "base_uri": "https://localhost:8080/"
        },
        "id": "s8AIHlCaIM2c",
        "outputId": "9e3184be-d9b3-44a8-81b1-8d2d49832346"
      },
      "execution_count": 33,
      "outputs": [
        {
          "output_type": "stream",
          "name": "stdout",
          "text": [
            "Test acc - outliers: 20.39739\n"
          ]
        }
      ]
    },
    {
      "cell_type": "code",
      "source": [
        "no_outlier_model = LinearRegression()\n",
        "no_outlier_model.fit(x_train, y_train)\n",
        "\n",
        "no_outlier_model_acc = no_outlier_model.score(x_test, y_test)\n",
        "\n",
        "print(\"Test acc - outliers: {:.5f}\".format(no_outlier_model_acc * 100))"
      ],
      "metadata": {
        "colab": {
          "base_uri": "https://localhost:8080/"
        },
        "id": "qei-62uKI4Yw",
        "outputId": "1a097bee-80d6-4007-bf60-13ed7a62c3a8"
      },
      "execution_count": 34,
      "outputs": [
        {
          "output_type": "stream",
          "name": "stdout",
          "text": [
            "Test acc - outliers: 20.65341\n"
          ]
        }
      ]
    },
    {
      "cell_type": "markdown",
      "source": [
        "# **Model**"
      ],
      "metadata": {
        "id": "b43V6n7GIDNB"
      }
    },
    {
      "cell_type": "code",
      "execution_count": 43,
      "metadata": {
        "id": "JK_MUeUaqUBO"
      },
      "outputs": [],
      "source": [
        "import tensorflow as tf\n",
        "from tensorflow.keras.models import Sequential\n",
        "from tensorflow.keras.layers import Dense\n",
        "from tensorflow.keras import initializers\n"
      ]
    },
    {
      "cell_type": "code",
      "execution_count": 84,
      "metadata": {
        "id": "rDqdVjbiu2yN"
      },
      "outputs": [],
      "source": [
        "def model():\n",
        "  model = Sequential()\n",
        "\n",
        "  model.add(Dense(8, activation=\"relu\", input_dim=14))\n",
        "  model.add(Dense(8, activation=\"relu\"))\n",
        "  model.add(Dense(8, activation=\"relu\"))\n",
        "  model.add(Dense(8, activation=\"relu\"))\n",
        "  model.add(Dense(8, activation=\"relu\"))\n",
        "  model.add(Dense(1, activation=\"relu\"))\n",
        "\n",
        "  model.compile(optimizer = \"adam\", loss = \"mse\" )  # mse : means squared error, gerçek veri ile tahmin değer farkının karesi\n",
        "\n",
        "  return model"
      ]
    },
    {
      "cell_type": "code",
      "source": [],
      "metadata": {
        "id": "ym5EuEofUehk"
      },
      "execution_count": null,
      "outputs": []
    },
    {
      "cell_type": "code",
      "source": [
        "from sklearn import tree\n",
        "y_train = y_train.astype(float)\n",
        "\n",
        "clf = tree.DecisionTreeRegressor()\n",
        "clf = clf.fit(x_train, y_train)\n",
        "y_predict = clf.predict(x_test)\n",
        "\n",
        "df = pd.DataFrame({'Real Values':y_test, 'Predicted Values':y_predict})\n",
        "\n"
      ],
      "metadata": {
        "id": "EviUxQYARO4L"
      },
      "execution_count": 40,
      "outputs": []
    },
    {
      "cell_type": "code",
      "source": [
        "sns.lineplot(x=y_test, y=y_predict)"
      ],
      "metadata": {
        "colab": {
          "base_uri": "https://localhost:8080/",
          "height": 282
        },
        "id": "xQ50ju-2TyMw",
        "outputId": "6a283d79-050c-4d93-8bef-2927b790bf5c"
      },
      "execution_count": 41,
      "outputs": [
        {
          "output_type": "execute_result",
          "data": {
            "text/plain": [
              "<matplotlib.axes._subplots.AxesSubplot at 0x7f424e9ab6d0>"
            ]
          },
          "metadata": {},
          "execution_count": 41
        },
        {
          "output_type": "display_data",
          "data": {
            "text/plain": [
              "<Figure size 432x288 with 1 Axes>"
            ],
            "image/png": "[encoded data removed]"
          },
          "metadata": {}
        }
      ]
    },
    {
      "cell_type": "code",
      "execution_count": 85,
      "metadata": {
        "colab": {
          "base_uri": "https://localhost:8080/"
        },
        "id": "RtIhdSQkw-DY",
        "outputId": "3b638f2f-14d8-49b0-fb6a-590bfd8f5602"
      },
      "outputs": [
        {
          "output_type": "stream",
          "name": "stdout",
          "text": [
            "Epoch 1/150\n",
            "382/382 [==============================] - 1s 2ms/step - loss: 681.9078\n",
            "Epoch 2/150\n",
            "382/382 [==============================] - 1s 2ms/step - loss: 268.8985\n",
            "Epoch 3/150\n",
            "382/382 [==============================] - 1s 2ms/step - loss: 255.5340\n",
            "Epoch 4/150\n",
            "382/382 [==============================] - 1s 2ms/step - loss: 252.0144\n",
            "Epoch 5/150\n",
            "382/382 [==============================] - 1s 2ms/step - loss: 250.0057\n",
            "Epoch 6/150\n",
            "382/382 [==============================] - 1s 2ms/step - loss: 248.7439\n",
            "Epoch 7/150\n",
            "382/382 [==============================] - 1s 2ms/step - loss: 247.6860\n",
            "Epoch 8/150\n",
            "382/382 [==============================] - 1s 2ms/step - loss: 246.8811\n",
            "Epoch 9/150\n",
            "382/382 [==============================] - 1s 2ms/step - loss: 245.9144\n",
            "Epoch 10/150\n",
            "382/382 [==============================] - 1s 2ms/step - loss: 245.1747\n",
            "Epoch 11/150\n",
            "382/382 [==============================] - 1s 2ms/step - loss: 244.5600\n",
            "Epoch 12/150\n",
            "382/382 [==============================] - 1s 2ms/step - loss: 244.0372\n",
            "Epoch 13/150\n",
            "382/382 [==============================] - 1s 2ms/step - loss: 243.5541\n",
            "Epoch 14/150\n",
            "382/382 [==============================] - 1s 2ms/step - loss: 243.3111\n",
            "Epoch 15/150\n",
            "382/382 [==============================] - 1s 2ms/step - loss: 243.0683\n",
            "Epoch 16/150\n",
            "382/382 [==============================] - 1s 2ms/step - loss: 242.8862\n",
            "Epoch 17/150\n",
            "382/382 [==============================] - 1s 2ms/step - loss: 242.4637\n",
            "Epoch 18/150\n",
            "382/382 [==============================] - 1s 2ms/step - loss: 242.4035\n",
            "Epoch 19/150\n",
            "382/382 [==============================] - 1s 2ms/step - loss: 242.2158\n",
            "Epoch 20/150\n",
            "382/382 [==============================] - 1s 2ms/step - loss: 242.1218\n",
            "Epoch 21/150\n",
            "382/382 [==============================] - 1s 2ms/step - loss: 242.0370\n",
            "Epoch 22/150\n",
            "382/382 [==============================] - 1s 2ms/step - loss: 241.9766\n",
            "Epoch 23/150\n",
            "382/382 [==============================] - 1s 2ms/step - loss: 241.8361\n",
            "Epoch 24/150\n",
            "382/382 [==============================] - 1s 2ms/step - loss: 241.7828\n",
            "Epoch 25/150\n",
            "382/382 [==============================] - 1s 2ms/step - loss: 241.7995\n",
            "Epoch 26/150\n",
            "382/382 [==============================] - 1s 2ms/step - loss: 241.6404\n",
            "Epoch 27/150\n",
            "382/382 [==============================] - 1s 2ms/step - loss: 241.6879\n",
            "Epoch 28/150\n",
            "382/382 [==============================] - 1s 2ms/step - loss: 241.6484\n",
            "Epoch 29/150\n",
            "382/382 [==============================] - 1s 2ms/step - loss: 241.5340\n",
            "Epoch 30/150\n",
            "382/382 [==============================] - 1s 2ms/step - loss: 241.4656\n",
            "Epoch 31/150\n",
            "382/382 [==============================] - 1s 2ms/step - loss: 241.4592\n",
            "Epoch 32/150\n",
            "382/382 [==============================] - 1s 2ms/step - loss: 241.4555\n",
            "Epoch 33/150\n",
            "382/382 [==============================] - 1s 2ms/step - loss: 241.4186\n",
            "Epoch 34/150\n",
            "382/382 [==============================] - 1s 2ms/step - loss: 241.3793\n",
            "Epoch 35/150\n",
            "382/382 [==============================] - 1s 2ms/step - loss: 241.4007\n",
            "Epoch 36/150\n",
            "382/382 [==============================] - 1s 2ms/step - loss: 241.3436\n",
            "Epoch 37/150\n",
            "382/382 [==============================] - 1s 2ms/step - loss: 241.2146\n",
            "Epoch 38/150\n",
            "382/382 [==============================] - 1s 2ms/step - loss: 241.1864\n",
            "Epoch 39/150\n",
            "382/382 [==============================] - 1s 2ms/step - loss: 241.2298\n",
            "Epoch 40/150\n",
            "382/382 [==============================] - 1s 2ms/step - loss: 241.3277\n",
            "Epoch 41/150\n",
            "382/382 [==============================] - 1s 2ms/step - loss: 241.2952\n",
            "Epoch 42/150\n",
            "382/382 [==============================] - 1s 2ms/step - loss: 241.2535\n",
            "Epoch 43/150\n",
            "382/382 [==============================] - 1s 2ms/step - loss: 241.2463\n",
            "Epoch 44/150\n",
            "382/382 [==============================] - 1s 2ms/step - loss: 241.1183\n",
            "Epoch 45/150\n",
            "382/382 [==============================] - 1s 2ms/step - loss: 240.9515\n",
            "Epoch 46/150\n",
            "382/382 [==============================] - 1s 2ms/step - loss: 241.0007\n",
            "Epoch 47/150\n",
            "382/382 [==============================] - 1s 2ms/step - loss: 241.1084\n",
            "Epoch 48/150\n",
            "382/382 [==============================] - 1s 2ms/step - loss: 241.1234\n",
            "Epoch 49/150\n",
            "382/382 [==============================] - 1s 2ms/step - loss: 241.0177\n",
            "Epoch 50/150\n",
            "382/382 [==============================] - 1s 2ms/step - loss: 241.0096\n",
            "Epoch 51/150\n",
            "382/382 [==============================] - 1s 2ms/step - loss: 241.1770\n",
            "Epoch 52/150\n",
            "382/382 [==============================] - 1s 2ms/step - loss: 240.9090\n",
            "Epoch 53/150\n",
            "382/382 [==============================] - 1s 2ms/step - loss: 240.9410\n",
            "Epoch 54/150\n",
            "382/382 [==============================] - 1s 2ms/step - loss: 240.9378\n",
            "Epoch 55/150\n",
            "382/382 [==============================] - 1s 2ms/step - loss: 240.9072\n",
            "Epoch 56/150\n",
            "382/382 [==============================] - 1s 2ms/step - loss: 240.8887\n",
            "Epoch 57/150\n",
            "382/382 [==============================] - 1s 2ms/step - loss: 240.8003\n",
            "Epoch 58/150\n",
            "382/382 [==============================] - 1s 2ms/step - loss: 240.7871\n",
            "Epoch 59/150\n",
            "382/382 [==============================] - 1s 2ms/step - loss: 240.8188\n",
            "Epoch 60/150\n",
            "382/382 [==============================] - 1s 2ms/step - loss: 240.8137\n",
            "Epoch 61/150\n",
            "382/382 [==============================] - 1s 2ms/step - loss: 240.7799\n",
            "Epoch 62/150\n",
            "382/382 [==============================] - 1s 2ms/step - loss: 240.7402\n",
            "Epoch 63/150\n",
            "382/382 [==============================] - 1s 2ms/step - loss: 240.6903\n",
            "Epoch 64/150\n",
            "382/382 [==============================] - 1s 2ms/step - loss: 240.7646\n",
            "Epoch 65/150\n",
            "382/382 [==============================] - 1s 2ms/step - loss: 240.6024\n",
            "Epoch 66/150\n",
            "382/382 [==============================] - 1s 2ms/step - loss: 240.7101\n",
            "Epoch 67/150\n",
            "382/382 [==============================] - 1s 2ms/step - loss: 240.7066\n",
            "Epoch 68/150\n",
            "382/382 [==============================] - 1s 2ms/step - loss: 240.6363\n",
            "Epoch 69/150\n",
            "382/382 [==============================] - 1s 2ms/step - loss: 240.6741\n",
            "Epoch 70/150\n",
            "382/382 [==============================] - 1s 2ms/step - loss: 240.5746\n",
            "Epoch 71/150\n",
            "382/382 [==============================] - 1s 2ms/step - loss: 240.6238\n",
            "Epoch 72/150\n",
            "382/382 [==============================] - 1s 2ms/step - loss: 240.5508\n",
            "Epoch 73/150\n",
            "382/382 [==============================] - 1s 2ms/step - loss: 240.7376\n",
            "Epoch 74/150\n",
            "382/382 [==============================] - 1s 2ms/step - loss: 240.5585\n",
            "Epoch 75/150\n",
            "382/382 [==============================] - 1s 2ms/step - loss: 240.6888\n",
            "Epoch 76/150\n",
            "382/382 [==============================] - 1s 2ms/step - loss: 240.6181\n",
            "Epoch 77/150\n",
            "382/382 [==============================] - 1s 2ms/step - loss: 240.4848\n",
            "Epoch 78/150\n",
            "382/382 [==============================] - 1s 2ms/step - loss: 240.6187\n",
            "Epoch 79/150\n",
            "382/382 [==============================] - 1s 2ms/step - loss: 240.4827\n",
            "Epoch 80/150\n",
            "382/382 [==============================] - 1s 2ms/step - loss: 240.5220\n",
            "Epoch 81/150\n",
            "382/382 [==============================] - 1s 2ms/step - loss: 240.5301\n",
            "Epoch 82/150\n",
            "382/382 [==============================] - 1s 2ms/step - loss: 240.5417\n",
            "Epoch 83/150\n",
            "382/382 [==============================] - 1s 2ms/step - loss: 240.4872\n",
            "Epoch 84/150\n",
            "382/382 [==============================] - 1s 2ms/step - loss: 240.5023\n",
            "Epoch 85/150\n",
            "382/382 [==============================] - 1s 2ms/step - loss: 240.5328\n",
            "Epoch 86/150\n",
            "382/382 [==============================] - 1s 2ms/step - loss: 240.4792\n",
            "Epoch 87/150\n",
            "382/382 [==============================] - 1s 2ms/step - loss: 240.5389\n",
            "Epoch 88/150\n",
            "382/382 [==============================] - 1s 2ms/step - loss: 240.4522\n",
            "Epoch 89/150\n",
            "382/382 [==============================] - 1s 2ms/step - loss: 240.4232\n",
            "Epoch 90/150\n",
            "382/382 [==============================] - 1s 2ms/step - loss: 240.3927\n",
            "Epoch 91/150\n",
            "382/382 [==============================] - 1s 2ms/step - loss: 240.5218\n",
            "Epoch 92/150\n",
            "382/382 [==============================] - 1s 2ms/step - loss: 240.4684\n",
            "Epoch 93/150\n",
            "382/382 [==============================] - 1s 2ms/step - loss: 240.4811\n",
            "Epoch 94/150\n",
            "382/382 [==============================] - 1s 2ms/step - loss: 240.3258\n",
            "Epoch 95/150\n",
            "382/382 [==============================] - 1s 2ms/step - loss: 240.3913\n",
            "Epoch 96/150\n",
            "382/382 [==============================] - 1s 2ms/step - loss: 240.3239\n",
            "Epoch 97/150\n",
            "382/382 [==============================] - 1s 2ms/step - loss: 240.3728\n",
            "Epoch 98/150\n",
            "382/382 [==============================] - 1s 2ms/step - loss: 240.5433\n",
            "Epoch 99/150\n",
            "382/382 [==============================] - 1s 2ms/step - loss: 240.3506\n",
            "Epoch 100/150\n",
            "382/382 [==============================] - 1s 2ms/step - loss: 240.2695\n",
            "Epoch 101/150\n",
            "382/382 [==============================] - 1s 2ms/step - loss: 240.2559\n",
            "Epoch 102/150\n",
            "382/382 [==============================] - 1s 2ms/step - loss: 240.2426\n",
            "Epoch 103/150\n",
            "382/382 [==============================] - 1s 2ms/step - loss: 240.3137\n",
            "Epoch 104/150\n",
            "382/382 [==============================] - 1s 2ms/step - loss: 240.2890\n",
            "Epoch 105/150\n",
            "382/382 [==============================] - 1s 2ms/step - loss: 240.2197\n",
            "Epoch 106/150\n",
            "382/382 [==============================] - 1s 2ms/step - loss: 240.1903\n",
            "Epoch 107/150\n",
            "382/382 [==============================] - 1s 2ms/step - loss: 240.2909\n",
            "Epoch 108/150\n",
            "382/382 [==============================] - 1s 2ms/step - loss: 240.1292\n",
            "Epoch 109/150\n",
            "382/382 [==============================] - 1s 2ms/step - loss: 240.2513\n",
            "Epoch 110/150\n",
            "382/382 [==============================] - 1s 2ms/step - loss: 240.1799\n",
            "Epoch 111/150\n",
            "382/382 [==============================] - 1s 2ms/step - loss: 240.1519\n",
            "Epoch 112/150\n",
            "382/382 [==============================] - 1s 2ms/step - loss: 240.2664\n",
            "Epoch 113/150\n",
            "382/382 [==============================] - 1s 2ms/step - loss: 240.1330\n",
            "Epoch 114/150\n",
            "382/382 [==============================] - 1s 3ms/step - loss: 240.1347\n",
            "Epoch 115/150\n",
            "382/382 [==============================] - 1s 4ms/step - loss: 240.1033\n",
            "Epoch 116/150\n",
            "382/382 [==============================] - 1s 3ms/step - loss: 240.1400\n",
            "Epoch 117/150\n",
            "382/382 [==============================] - 1s 3ms/step - loss: 240.0711\n",
            "Epoch 118/150\n",
            "382/382 [==============================] - 1s 2ms/step - loss: 240.1434\n",
            "Epoch 119/150\n",
            "382/382 [==============================] - 1s 2ms/step - loss: 240.0324\n",
            "Epoch 120/150\n",
            "382/382 [==============================] - 1s 2ms/step - loss: 240.0480\n",
            "Epoch 121/150\n",
            "382/382 [==============================] - 1s 2ms/step - loss: 239.9837\n",
            "Epoch 122/150\n",
            "382/382 [==============================] - 1s 2ms/step - loss: 240.1127\n",
            "Epoch 123/150\n",
            "382/382 [==============================] - 1s 2ms/step - loss: 240.0163\n",
            "Epoch 124/150\n",
            "382/382 [==============================] - 1s 4ms/step - loss: 239.9601\n",
            "Epoch 125/150\n",
            "382/382 [==============================] - 1s 2ms/step - loss: 239.8763\n",
            "Epoch 126/150\n",
            "382/382 [==============================] - 1s 2ms/step - loss: 240.0497\n",
            "Epoch 127/150\n",
            "382/382 [==============================] - 1s 2ms/step - loss: 239.9838\n",
            "Epoch 128/150\n",
            "382/382 [==============================] - 1s 2ms/step - loss: 239.9269\n",
            "Epoch 129/150\n",
            "382/382 [==============================] - 1s 2ms/step - loss: 239.9888\n",
            "Epoch 130/150\n",
            "382/382 [==============================] - 1s 2ms/step - loss: 239.8644\n",
            "Epoch 131/150\n",
            "382/382 [==============================] - 1s 2ms/step - loss: 239.9801\n",
            "Epoch 132/150\n",
            "382/382 [==============================] - 1s 2ms/step - loss: 239.9007\n",
            "Epoch 133/150\n",
            "382/382 [==============================] - 1s 2ms/step - loss: 239.8720\n",
            "Epoch 134/150\n",
            "382/382 [==============================] - 1s 2ms/step - loss: 239.9145\n",
            "Epoch 135/150\n",
            "382/382 [==============================] - 2s 4ms/step - loss: 239.8462\n",
            "Epoch 136/150\n",
            "382/382 [==============================] - 1s 2ms/step - loss: 239.7122\n",
            "Epoch 137/150\n",
            "382/382 [==============================] - 1s 2ms/step - loss: 240.0331\n",
            "Epoch 138/150\n",
            "382/382 [==============================] - 1s 2ms/step - loss: 239.7906\n",
            "Epoch 139/150\n",
            "382/382 [==============================] - 1s 2ms/step - loss: 239.7566\n",
            "Epoch 140/150\n",
            "382/382 [==============================] - 1s 2ms/step - loss: 239.7652\n",
            "Epoch 141/150\n",
            "382/382 [==============================] - 1s 2ms/step - loss: 239.7199\n",
            "Epoch 142/150\n",
            "382/382 [==============================] - 1s 2ms/step - loss: 239.7076\n",
            "Epoch 143/150\n",
            "382/382 [==============================] - 1s 2ms/step - loss: 239.6445\n",
            "Epoch 144/150\n",
            "382/382 [==============================] - 1s 2ms/step - loss: 239.5521\n",
            "Epoch 145/150\n",
            "382/382 [==============================] - 1s 2ms/step - loss: 239.5791\n",
            "Epoch 146/150\n",
            "382/382 [==============================] - 1s 2ms/step - loss: 239.5690\n",
            "Epoch 147/150\n",
            "382/382 [==============================] - 1s 2ms/step - loss: 239.4663\n",
            "Epoch 148/150\n",
            "382/382 [==============================] - 1s 2ms/step - loss: 239.5527\n",
            "Epoch 149/150\n",
            "382/382 [==============================] - 1s 2ms/step - loss: 239.3358\n",
            "Epoch 150/150\n",
            "382/382 [==============================] - 1s 2ms/step - loss: 239.3095\n"
          ]
        },
        {
          "output_type": "execute_result",
          "data": {
            "text/plain": [
              "<keras.callbacks.History at 0x7f42484411c0>"
            ]
          },
          "metadata": {},
          "execution_count": 85
        }
      ],
      "source": [
        "model1 = model()\n",
        "# model2 = model()\n",
        "# model3 = model()\n",
        "# model4 = model()\n",
        "# model5 = model() \n",
        "\n",
        "model1.fit(x_train, y_train, epochs=150, batch_size=1000)\n",
        "# model2.fit(x_train_2, y_train_2, epochs=130, batch_size=1000)\n",
        "# model3.fit(x_train_3, y_train_3, epochs=130, batch_size=1000)\n",
        "# model4.fit(x_train_4, y_train_4, epochs=130, batch_size=1000)\n",
        "# model5.fit(x_train_5, y_train_5, epochs=130, batch_size=1000)"
      ]
    },
    {
      "cell_type": "markdown",
      "source": [],
      "metadata": {
        "id": "i6mYMW9dDTee"
      }
    },
    {
      "cell_type": "code",
      "source": [
        "model1.summary()"
      ],
      "metadata": {
        "colab": {
          "base_uri": "https://localhost:8080/"
        },
        "id": "aqU_CLynOrVJ",
        "outputId": "89866b8c-82c5-4769-b5cc-6cab81060324"
      },
      "execution_count": 60,
      "outputs": [
        {
          "output_type": "stream",
          "name": "stdout",
          "text": [
            "Model: \"sequential_6\"\n",
            "_________________________________________________________________\n",
            " Layer (type)                Output Shape              Param #   \n",
            "=================================================================\n",
            " dense_16 (Dense)            (None, 8)                 120       \n",
            "                                                                 \n",
            " dense_17 (Dense)            (None, 8)                 72        \n",
            "                                                                 \n",
            " dense_18 (Dense)            (None, 8)                 72        \n",
            "                                                                 \n",
            " dense_19 (Dense)            (None, 1)                 9         \n",
            "                                                                 \n",
            "=================================================================\n",
            "Total params: 273\n",
            "Trainable params: 273\n",
            "Non-trainable params: 0\n",
            "_________________________________________________________________\n"
          ]
        }
      ]
    },
    {
      "cell_type": "code",
      "source": [
        "model1.save('model1.h5')\n",
        "model2.save('model2.h5')\n",
        "model3.save('model3.h5')\n",
        "model4.save('model4.h5')\n",
        "model5.save('model5.h5')"
      ],
      "metadata": {
        "id": "4zvCdA0R-9XH"
      },
      "execution_count": null,
      "outputs": []
    },
    {
      "cell_type": "code",
      "source": [
        "import tensorflowjs as tfjs\n",
        "\n",
        "tfjs.converters.save_keras_model(model1, \"model1\")\n",
        "tfjs.converters.save_keras_model(model2, \"model2\")\n",
        "tfjs.converters.save_keras_model(model3, \"model3\")\n",
        "tfjs.converters.save_keras_model(model4, \"model4\")\n",
        "tfjs.converters.save_keras_model(model5, \"model5\")\n",
        "\n",
        "\n"
      ],
      "metadata": {
        "id": "RUmCbRohOTmg"
      },
      "execution_count": null,
      "outputs": []
    },
    {
      "cell_type": "code",
      "execution_count": 61,
      "metadata": {
        "id": "3tbZIW8KyD-f"
      },
      "outputs": [],
      "source": [
        "loss = model1.history.history[\"loss\"]  "
      ]
    },
    {
      "cell_type": "code",
      "execution_count": 62,
      "metadata": {
        "colab": {
          "base_uri": "https://localhost:8080/",
          "height": 284
        },
        "id": "wDDBCfO1yK32",
        "outputId": "ba8d6d33-ac11-4859-82f9-c2563fe2725f"
      },
      "outputs": [
        {
          "output_type": "execute_result",
          "data": {
            "text/plain": [
              "<matplotlib.axes._subplots.AxesSubplot at 0x7f4249959880>"
            ]
          },
          "metadata": {},
          "execution_count": 62
        },
        {
          "output_type": "display_data",
          "data": {
            "text/plain": [
              "<Figure size 432x288 with 1 Axes>"
            ],
            "image/png": "[encoded data removed]"
          },
          "metadata": {}
        }
      ],
      "source": [
        "sns.lineplot(x=range(len(loss)), y=loss)"
      ]
    },
    {
      "cell_type": "code",
      "execution_count": 63,
      "metadata": {
        "id": "APVcIKgxzDsg"
      },
      "outputs": [],
      "source": [
        "trainLoss = model1.evaluate(x_train, y_train, verbose=0)"
      ]
    },
    {
      "cell_type": "code",
      "execution_count": 64,
      "metadata": {
        "id": "CAzy156JzNWP"
      },
      "outputs": [],
      "source": [
        "testLoss = model1.evaluate(x_test, y_test, verbose=0)"
      ]
    },
    {
      "cell_type": "code",
      "execution_count": 65,
      "metadata": {
        "colab": {
          "base_uri": "https://localhost:8080/"
        },
        "id": "EgZqGg8Izbo1",
        "outputId": "d3a6b815-576c-42a4-bb9a-d2d073c44e86"
      },
      "outputs": [
        {
          "output_type": "execute_result",
          "data": {
            "text/plain": [
              "1073.2181396484375"
            ]
          },
          "metadata": {},
          "execution_count": 65
        }
      ],
      "source": [
        "trainLoss"
      ]
    },
    {
      "cell_type": "code",
      "execution_count": 66,
      "metadata": {
        "colab": {
          "base_uri": "https://localhost:8080/"
        },
        "id": "cRwTGvmLzePl",
        "outputId": "adba10be-926b-446a-b1a0-c17d1b7e3a74"
      },
      "outputs": [
        {
          "output_type": "execute_result",
          "data": {
            "text/plain": [
              "1073.954345703125"
            ]
          },
          "metadata": {},
          "execution_count": 66
        }
      ],
      "source": [
        "testLoss"
      ]
    },
    {
      "cell_type": "code",
      "execution_count": 67,
      "metadata": {
        "colab": {
          "base_uri": "https://localhost:8080/"
        },
        "id": "rpTMAVvF0GhW",
        "outputId": "96c4e225-06da-43df-9dbe-32e86cb94f65"
      },
      "outputs": [
        {
          "output_type": "stream",
          "name": "stdout",
          "text": [
            "5868/5868 [==============================] - 7s 1ms/step\n"
          ]
        }
      ],
      "source": [
        "testTahminleri = model1.predict(x_test)"
      ]
    },
    {
      "cell_type": "code",
      "execution_count": 68,
      "metadata": {
        "colab": {
          "base_uri": "https://localhost:8080/"
        },
        "id": "zZhsAEAJ0PBd",
        "outputId": "0098f1d8-7526-4141-816d-78b03e4ee221"
      },
      "outputs": [
        {
          "output_type": "execute_result",
          "data": {
            "text/plain": [
              "array([[1.],\n",
              "       [1.],\n",
              "       [1.],\n",
              "       ...,\n",
              "       [1.],\n",
              "       [1.],\n",
              "       [1.]], dtype=float32)"
            ]
          },
          "metadata": {},
          "execution_count": 68
        }
      ],
      "source": [
        "testTahminleri    "
      ]
    },
    {
      "cell_type": "code",
      "execution_count": 69,
      "metadata": {
        "id": "KpR1Lg8w0i2a"
      },
      "outputs": [],
      "source": [
        "ActualDf = pd.DataFrame(y_test, columns=[\"Actual Y\"])"
      ]
    },
    {
      "cell_type": "code",
      "execution_count": 70,
      "metadata": {
        "colab": {
          "base_uri": "https://localhost:8080/",
          "height": 424
        },
        "id": "92F3JGFU0r71",
        "outputId": "e1f4bb9d-a4da-42e1-e7f1-a99033803051"
      },
      "outputs": [
        {
          "output_type": "execute_result",
          "data": {
            "text/plain": [
              "        Actual Y\n",
              "0             39\n",
              "1              8\n",
              "2             14\n",
              "3              3\n",
              "4             29\n",
              "...          ...\n",
              "187757        30\n",
              "187758        61\n",
              "187759        39\n",
              "187760        44\n",
              "187761        20\n",
              "\n",
              "[187762 rows x 1 columns]"
            ],
            "text/html": [
              "\n",
              "  <div id=\"df-8826350a-741c-4fdf-82e1-e923e849822c\">\n",
              "    <div class=\"colab-df-container\">\n",
              "      <div>\n",
              "<style scoped>\n",
              "    .dataframe tbody tr th:only-of-type {\n",
              "        vertical-align: middle;\n",
              "    }\n",
              "\n",
              "    .dataframe tbody tr th {\n",
              "        vertical-align: top;\n",
              "    }\n",
              "\n",
              "    .dataframe thead th {\n",
              "        text-align: right;\n",
              "    }\n",
              "</style>\n",
              "<table border=\"1\" class=\"dataframe\">\n",
              "  <thead>\n",
              "    <tr style=\"text-align: right;\">\n",
              "      <th></th>\n",
              "      <th>Actual Y</th>\n",
              "    </tr>\n",
              "  </thead>\n",
              "  <tbody>\n",
              "    <tr>\n",
              "      <th>0</th>\n",
              "      <td>39</td>\n",
              "    </tr>\n",
              "    <tr>\n",
              "      <th>1</th>\n",
              "      <td>8</td>\n",
              "    </tr>\n",
              "    <tr>\n",
              "      <th>2</th>\n",
              "      <td>14</td>\n",
              "    </tr>\n",
              "    <tr>\n",
              "      <th>3</th>\n",
              "      <td>3</td>\n",
              "    </tr>\n",
              "    <tr>\n",
              "      <th>4</th>\n",
              "      <td>29</td>\n",
              "    </tr>\n",
              "    <tr>\n",
              "      <th>...</th>\n",
              "      <td>...</td>\n",
              "    </tr>\n",
              "    <tr>\n",
              "      <th>187757</th>\n",
              "      <td>30</td>\n",
              "    </tr>\n",
              "    <tr>\n",
              "      <th>187758</th>\n",
              "      <td>61</td>\n",
              "    </tr>\n",
              "    <tr>\n",
              "      <th>187759</th>\n",
              "      <td>39</td>\n",
              "    </tr>\n",
              "    <tr>\n",
              "      <th>187760</th>\n",
              "      <td>44</td>\n",
              "    </tr>\n",
              "    <tr>\n",
              "      <th>187761</th>\n",
              "      <td>20</td>\n",
              "    </tr>\n",
              "  </tbody>\n",
              "</table>\n",
              "<p>187762 rows × 1 columns</p>\n",
              "</div>\n",
              "      <button class=\"colab-df-convert\" onclick=\"convertToInteractive('df-8826350a-741c-4fdf-82e1-e923e849822c')\"\n",
              "              title=\"Convert this dataframe to an interactive table.\"\n",
              "              style=\"display:none;\">\n",
              "        \n",
              "  <svg xmlns=\"http://www.w3.org/2000/svg\" height=\"24px\"viewBox=\"0 0 24 24\"\n",
              "       width=\"24px\">\n",
              "    <path d=\"M0 0h24v24H0V0z\" fill=\"none\"/>\n",
              "    <path d=\"M18.56 5.44l.94 2.06.94-2.06 2.06-.94-2.06-.94-.94-2.06-.94 2.06-2.06.94zm-11 1L8.5 8.5l.94-2.06 2.06-.94-2.06-.94L8.5 2.5l-.94 2.06-2.06.94zm10 10l.94 2.06.94-2.06 2.06-.94-2.06-.94-.94-2.06-.94 2.06-2.06.94z\"/><path d=\"M17.41 7.96l-1.37-1.37c-.4-.4-.92-.59-1.43-.59-.52 0-1.04.2-1.43.59L10.3 9.45l-7.72 7.72c-.78.78-.78 2.05 0 2.83L4 21.41c.39.39.9.59 1.41.59.51 0 1.02-.2 1.41-.59l7.78-7.78 2.81-2.81c.8-.78.8-2.07 0-2.86zM5.41 20L4 18.59l7.72-7.72 1.47 1.35L5.41 20z\"/>\n",
              "  </svg>\n",
              "      </button>\n",
              "      \n",
              "  <style>\n",
              "    .colab-df-container {\n",
              "      display:flex;\n",
              "      flex-wrap:wrap;\n",
              "      gap: 12px;\n",
              "    }\n",
              "\n",
              "    .colab-df-convert {\n",
              "      background-color: #E8F0FE;\n",
              "      border: none;\n",
              "      border-radius: 50%;\n",
              "      cursor: pointer;\n",
              "      display: none;\n",
              "      fill: #1967D2;\n",
              "      height: 32px;\n",
              "      padding: 0 0 0 0;\n",
              "      width: 32px;\n",
              "    }\n",
              "\n",
              "    .colab-df-convert:hover {\n",
              "      background-color: #E2EBFA;\n",
              "      box-shadow: 0px 1px 2px rgba(60, 64, 67, 0.3), 0px 1px 3px 1px rgba(60, 64, 67, 0.15);\n",
              "      fill: #174EA6;\n",
              "    }\n",
              "\n",
              "    [theme=dark] .colab-df-convert {\n",
              "      background-color: #3B4455;\n",
              "      fill: #D2E3FC;\n",
              "    }\n",
              "\n",
              "    [theme=dark] .colab-df-convert:hover {\n",
              "      background-color: #434B5C;\n",
              "      box-shadow: 0px 1px 3px 1px rgba(0, 0, 0, 0.15);\n",
              "      filter: drop-shadow(0px 1px 2px rgba(0, 0, 0, 0.3));\n",
              "      fill: #FFFFFF;\n",
              "    }\n",
              "  </style>\n",
              "\n",
              "      <script>\n",
              "        const buttonEl =\n",
              "          document.querySelector('#df-8826350a-741c-4fdf-82e1-e923e849822c button.colab-df-convert');\n",
              "        buttonEl.style.display =\n",
              "          google.colab.kernel.accessAllowed ? 'block' : 'none';\n",
              "\n",
              "        async function convertToInteractive(key) {\n",
              "          const element = document.querySelector('#df-8826350a-741c-4fdf-82e1-e923e849822c');\n",
              "          const dataTable =\n",
              "            await google.colab.kernel.invokeFunction('convertToInteractive',\n",
              "                                                     [key], {});\n",
              "          if (!dataTable) return;\n",
              "\n",
              "          const docLinkHtml = 'Like what you see? Visit the ' +\n",
              "            '<a target=\"_blank\" href=https://colab.research.google.com/notebooks/data_table.ipynb>data table notebook</a>'\n",
              "            + ' to learn more about interactive tables.';\n",
              "          element.innerHTML = '';\n",
              "          dataTable['output_type'] = 'display_data';\n",
              "          await google.colab.output.renderOutput(dataTable, element);\n",
              "          const docLink = document.createElement('div');\n",
              "          docLink.innerHTML = docLinkHtml;\n",
              "          element.appendChild(docLink);\n",
              "        }\n",
              "      </script>\n",
              "    </div>\n",
              "  </div>\n",
              "  "
            ]
          },
          "metadata": {},
          "execution_count": 70
        }
      ],
      "source": [
        "ActualDf"
      ]
    },
    {
      "cell_type": "code",
      "execution_count": 71,
      "metadata": {
        "id": "PN0lMp5P0625",
        "colab": {
          "base_uri": "https://localhost:8080/",
          "height": 165
        },
        "outputId": "b53ca72b-91b3-403e-d592-f7e67a610937"
      },
      "outputs": [
        {
          "output_type": "error",
          "ename": "ValueError",
          "evalue": "ignored",
          "traceback": [
            "\u001b[0;31m---------------------------------------------------------------------------\u001b[0m",
            "\u001b[0;31mValueError\u001b[0m                                Traceback (most recent call last)",
            "\u001b[0;32m<ipython-input-71-8f4b6c327fad>\u001b[0m in \u001b[0;36m<module>\u001b[0;34m\u001b[0m\n\u001b[0;32m----> 1\u001b[0;31m \u001b[0mtestTahminleri\u001b[0m \u001b[0;34m=\u001b[0m \u001b[0mpd\u001b[0m\u001b[0;34m.\u001b[0m\u001b[0mSeries\u001b[0m\u001b[0;34m(\u001b[0m\u001b[0mtestTahminleri\u001b[0m\u001b[0;34m.\u001b[0m\u001b[0mreshape\u001b[0m\u001b[0;34m(\u001b[0m\u001b[0;36m113795\u001b[0m\u001b[0;34m)\u001b[0m\u001b[0;34m)\u001b[0m\u001b[0;34m\u001b[0m\u001b[0;34m\u001b[0m\u001b[0m\n\u001b[0m",
            "\u001b[0;31mValueError\u001b[0m: cannot reshape array of size 187762 into shape (113795,)"
          ]
        }
      ],
      "source": [
        "testTahminleri = pd.Series(testTahminleri.reshape(113795))"
      ]
    },
    {
      "cell_type": "code",
      "execution_count": null,
      "metadata": {
        "id": "oaT90D9W1PYE"
      },
      "outputs": [],
      "source": [
        "testTahminleri"
      ]
    },
    {
      "cell_type": "code",
      "execution_count": null,
      "metadata": {
        "id": "p77Ir_K11YVs"
      },
      "outputs": [],
      "source": [
        "tahminDf = pd.concat([ActualDf, testTahminleri], axis=1)"
      ]
    },
    {
      "cell_type": "code",
      "execution_count": null,
      "metadata": {
        "id": "0FcT1Fhu1dtt"
      },
      "outputs": [],
      "source": [
        "tahminDf.columns = [\"Actual Y\", \"Predicted Y\"]"
      ]
    },
    {
      "cell_type": "code",
      "execution_count": null,
      "metadata": {
        "id": "cKJSF4uv1_oH"
      },
      "outputs": [],
      "source": [
        "tahminDf"
      ]
    },
    {
      "cell_type": "code",
      "execution_count": 72,
      "metadata": {
        "colab": {
          "base_uri": "https://localhost:8080/",
          "height": 165
        },
        "id": "r1el7ZcE2cst",
        "outputId": "6220722b-3814-480a-8c5f-45f8afc9885c"
      },
      "outputs": [
        {
          "output_type": "error",
          "ename": "NameError",
          "evalue": "ignored",
          "traceback": [
            "\u001b[0;31m---------------------------------------------------------------------------\u001b[0m",
            "\u001b[0;31mNameError\u001b[0m                                 Traceback (most recent call last)",
            "\u001b[0;32m<ipython-input-72-6c099da6621e>\u001b[0m in \u001b[0;36m<module>\u001b[0;34m\u001b[0m\n\u001b[0;32m----> 1\u001b[0;31m \u001b[0msns\u001b[0m\u001b[0;34m.\u001b[0m\u001b[0mscatterplot\u001b[0m\u001b[0;34m(\u001b[0m\u001b[0mx\u001b[0m \u001b[0;34m=\u001b[0m \u001b[0;34m\"Actual Y\"\u001b[0m\u001b[0;34m,\u001b[0m \u001b[0my\u001b[0m\u001b[0;34m=\u001b[0m \u001b[0;34m\"Predicted Y\"\u001b[0m\u001b[0;34m,\u001b[0m \u001b[0mdata\u001b[0m\u001b[0;34m=\u001b[0m\u001b[0mtahminDf\u001b[0m\u001b[0;34m)\u001b[0m\u001b[0;34m\u001b[0m\u001b[0;34m\u001b[0m\u001b[0m\n\u001b[0m",
            "\u001b[0;31mNameError\u001b[0m: name 'tahminDf' is not defined"
          ]
        }
      ],
      "source": [
        "sns.scatterplot(x = \"Actual Y\", y= \"Predicted Y\", data=tahminDf) "
      ]
    },
    {
      "cell_type": "code",
      "execution_count": 58,
      "metadata": {
        "id": "uYtwns9I3etU"
      },
      "outputs": [],
      "source": [
        "from sklearn.metrics import mean_absolute_error, mean_squared_error"
      ]
    },
    {
      "cell_type": "code",
      "execution_count": 59,
      "metadata": {
        "colab": {
          "base_uri": "https://localhost:8080/"
        },
        "id": "AKwChiJm3nCV",
        "outputId": "ec4bbc07-e0f2-40ef-9f64-3610da656ba4"
      },
      "outputs": [
        {
          "output_type": "execute_result",
          "data": {
            "text/plain": [
              "12.056993296970681"
            ]
          },
          "metadata": {},
          "execution_count": 59
        }
      ],
      "source": [
        "mean_absolute_error(tahminDf[\"Actual Y\"], tahminDf[\"Predicted Y\"])"
      ]
    },
    {
      "cell_type": "code",
      "execution_count": 60,
      "metadata": {
        "colab": {
          "base_uri": "https://localhost:8080/"
        },
        "id": "Nrvlq9Xh3xC-",
        "outputId": "b98ea09e-441f-4879-baec-784af634effb"
      },
      "outputs": [
        {
          "output_type": "execute_result",
          "data": {
            "text/plain": [
              "225.57605340942325"
            ]
          },
          "metadata": {},
          "execution_count": 60
        }
      ],
      "source": [
        "mean_squared_error(tahminDf[\"Actual Y\"], tahminDf[\"Predicted Y\"])"
      ]
    },
    {
      "cell_type": "code",
      "execution_count": null,
      "metadata": {
        "id": "ZIbX2eOA5VDF"
      },
      "outputs": [],
      "source": [
        "from tensorflow.keras.models import load_model\n",
        "model.save(\"song_popularity.h5\")"
      ]
    },
    {
      "cell_type": "code",
      "execution_count": null,
      "metadata": {
        "id": "qBZfmgqt5e0k"
      },
      "outputs": [],
      "source": [
        "#sonradan çağırma\n",
        "myModel = load_model(\"song_popularity.h5\")\n",
        "myModel.predict(newSong)"
      ]
    },
    {
      "cell_type": "code",
      "execution_count": 62,
      "metadata": {
        "id": "UaVwSAhOI6zc"
      },
      "outputs": [],
      "source": [
        "#from sklearn.linear_model import LogisticRegression\n",
        "# from sklearn.neighbors import KNeighborsClassifier\n",
        "# from sklearn.neural_network import MLPClassifier\n",
        "# from sklearn.svm import SVC\n",
        "from sklearn.tree import DecisionTreeClassifier\n",
        "\n",
        "\n",
        "#log_model = LogisticRegression(solver='lbfgs', max_iter=1000)\n",
        "# knn_model = KNeighborsClassifier()\n",
        "dec_model = DecisionTreeClassifier()\n",
        "# mlp_model = MLPClassifier()\n",
        "# svm_model = SVC()"
      ]
    },
    {
      "cell_type": "code",
      "execution_count": 63,
      "metadata": {
        "colab": {
          "base_uri": "https://localhost:8080/"
        },
        "id": "OFmq1i8EI6zc",
        "outputId": "4f1eb03b-d0bd-4ca7-9367-1ca95f3abffc"
      },
      "outputs": [
        {
          "output_type": "execute_result",
          "data": {
            "text/plain": [
              "DecisionTreeClassifier()"
            ]
          },
          "metadata": {},
          "execution_count": 63
        }
      ],
      "source": [
        "#log_model.fit(x_train, y_train)\n",
        "#knn_model.fit(X_train, y_train)\n",
        "dec_model.fit(x_train, y_train)\n",
        "# mlp_model.fit(X_train, y_train)\n",
        "# svm_model.fit(X_train, y_train)"
      ]
    },
    {
      "cell_type": "code",
      "execution_count": 64,
      "metadata": {
        "id": "esh9UG60I6zd"
      },
      "outputs": [],
      "source": [
        "#log_acc = log_model.score(x_test, y_test)\n",
        "#knn_acc =knn_model.score(X_test, y_test)\n",
        "dec_acc =dec_model.score(x_test, y_test)\n",
        "# mlp_acc =mlp_model.score(X_test, y_test)\n",
        "# svm_acc =svm_model.score(X_test, y_test)"
      ]
    },
    {
      "cell_type": "code",
      "execution_count": 67,
      "metadata": {
        "colab": {
          "base_uri": "https://localhost:8080/"
        },
        "id": "x-s2r-urI6zd",
        "outputId": "478a92f1-81f1-4ecc-ba3a-162ff9c0be33"
      },
      "outputs": [
        {
          "output_type": "stream",
          "name": "stdout",
          "text": [
            "Decision tree accuracy:  0.042875346016960324\n"
          ]
        }
      ],
      "source": [
        "print(\"Decision tree accuracy: \", dec_acc)"
      ]
    },
    {
      "cell_type": "code",
      "execution_count": 70,
      "metadata": {
        "colab": {
          "base_uri": "https://localhost:8080/"
        },
        "id": "PNIYEKJvI6zd",
        "outputId": "2be4eb73-ff88-430d-f4a3-306208853cd0"
      },
      "outputs": [
        {
          "output_type": "stream",
          "name": "stdout",
          "text": [
            "[12:47:20] WARNING: /workspace/src/objective/regression_obj.cu:152: reg:linear is now deprecated in favor of reg:squarederror.\n",
            "Accuracy: 100.00%\n"
          ]
        }
      ],
      "source": [
        "from xgboost import XGBRegressor\n",
        "\n",
        "\n",
        "model = XGBRegressor()\n",
        "model.fit(outlier_x_train, outlier_y_train)\n",
        "# make predictions for test data\n",
        "y_pred = model.predict(outlier_x_test)\n",
        "accuracy = model.score(outlier_x_test, y_pred)\n",
        "print(\"Accuracy: %.2f%%\" % (accuracy * 100.0))"
      ]
    },
    {
      "cell_type": "code",
      "execution_count": null,
      "metadata": {
        "id": "CwtHFitnI6zd"
      },
      "outputs": [],
      "source": []
    }
  ],
  "metadata": {
    "colab": {
      "provenance": [],
      "collapsed_sections": [
        "DcMvdVdyI6zI",
        "5pNUVlZT9qjI",
        "meHJnh0GI6zZ",
        "rD9017GXHeDA",
        "5nB6tuDXINHw"
      ],
      "include_colab_link": true
    },
    "gpuClass": "standard",
    "kernelspec": {
      "display_name": "Python 3.11.0 64-bit",
      "language": "python",
      "name": "python3"
    },
    "language_info": {
      "codemirror_mode": {
        "name": "ipython",
        "version": 3
      },
      "file_extension": ".py",
      "mimetype": "text/x-python",
      "name": "python",
      "nbconvert_exporter": "python",
      "pygments_lexer": "ipython3",
      "version": "3.11.0"
    },
    "vscode": {
      "interpreter": {
        "hash": "ebdbf0d287d4a5d1cbb546460090ee807ea1cac84a78c03c7efc907821b2512d"
      }
    }
  },
  "nbformat": 4,
  "nbformat_minor": 0
}