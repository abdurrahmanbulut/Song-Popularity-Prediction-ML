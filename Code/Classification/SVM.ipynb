{
 "cells": [
  {
   "cell_type": "code",
   "execution_count": 1,
   "metadata": {},
   "outputs": [],
   "source": [
    "import numpy as np\n",
    "import pandas as pd\n",
    "from sklearn.feature_selection import SelectPercentile, chi2\n",
    "from sklearn.model_selection import train_test_split, cross_val_score\n",
    "from sklearn.pipeline import Pipeline\n",
    "from sklearn.preprocessing import StandardScaler\n",
    "from sklearn.svm import SVC"
   ]
  },
  {
   "cell_type": "code",
   "execution_count": 2,
   "metadata": {},
   "outputs": [],
   "source": [
    "tracks = pd.read_csv('../../Dataset/data_processed.csv')"
   ]
  },
  {
   "cell_type": "code",
   "execution_count": 3,
   "metadata": {},
   "outputs": [
    {
     "name": "stdout",
     "output_type": "stream",
     "text": [
      "<class 'pandas.core.frame.DataFrame'>\n",
      "RangeIndex: 381292 entries, 0 to 381291\n",
      "Data columns (total 28 columns):\n",
      " #   Column            Non-Null Count   Dtype  \n",
      "---  ------            --------------   -----  \n",
      " 0   popularity        381292 non-null  int64  \n",
      " 1   explicit          381292 non-null  int64  \n",
      " 2   release_date      381292 non-null  int64  \n",
      " 3   danceability      381292 non-null  float64\n",
      " 4   energy            381292 non-null  float64\n",
      " 5   loudness          381292 non-null  float64\n",
      " 6   speechiness       381292 non-null  float64\n",
      " 7   acousticness      381292 non-null  float64\n",
      " 8   instrumentalness  381292 non-null  float64\n",
      " 9   liveness          381292 non-null  float64\n",
      " 10  valence           381292 non-null  float64\n",
      " 11  tempo             381292 non-null  float64\n",
      " 12  time_signature    381292 non-null  int64  \n",
      " 13  key_0             381292 non-null  int64  \n",
      " 14  key_1             381292 non-null  int64  \n",
      " 15  key_2             381292 non-null  int64  \n",
      " 16  key_3             381292 non-null  int64  \n",
      " 17  key_4             381292 non-null  int64  \n",
      " 18  key_5             381292 non-null  int64  \n",
      " 19  key_6             381292 non-null  int64  \n",
      " 20  key_7             381292 non-null  int64  \n",
      " 21  key_8             381292 non-null  int64  \n",
      " 22  key_9             381292 non-null  int64  \n",
      " 23  key_10            381292 non-null  int64  \n",
      " 24  key_11            381292 non-null  int64  \n",
      " 25  minor             381292 non-null  int64  \n",
      " 26  major             381292 non-null  int64  \n",
      " 27  duration          381292 non-null  int64  \n",
      "dtypes: float64(9), int64(19)\n",
      "memory usage: 81.5 MB\n"
     ]
    }
   ],
   "source": [
    "tracks.info()"
   ]
  },
  {
   "cell_type": "code",
   "execution_count": 4,
   "metadata": {},
   "outputs": [
    {
     "data": {
      "text/html": [
       "<div>\n",
       "<style scoped>\n",
       "    .dataframe tbody tr th:only-of-type {\n",
       "        vertical-align: middle;\n",
       "    }\n",
       "\n",
       "    .dataframe tbody tr th {\n",
       "        vertical-align: top;\n",
       "    }\n",
       "\n",
       "    .dataframe thead th {\n",
       "        text-align: right;\n",
       "    }\n",
       "</style>\n",
       "<table border=\"1\" class=\"dataframe\">\n",
       "  <thead>\n",
       "    <tr style=\"text-align: right;\">\n",
       "      <th></th>\n",
       "      <th>popularity</th>\n",
       "      <th>explicit</th>\n",
       "      <th>release_date</th>\n",
       "      <th>danceability</th>\n",
       "      <th>energy</th>\n",
       "      <th>loudness</th>\n",
       "      <th>speechiness</th>\n",
       "      <th>acousticness</th>\n",
       "      <th>instrumentalness</th>\n",
       "      <th>liveness</th>\n",
       "      <th>...</th>\n",
       "      <th>key_5</th>\n",
       "      <th>key_6</th>\n",
       "      <th>key_7</th>\n",
       "      <th>key_8</th>\n",
       "      <th>key_9</th>\n",
       "      <th>key_10</th>\n",
       "      <th>key_11</th>\n",
       "      <th>minor</th>\n",
       "      <th>major</th>\n",
       "      <th>duration</th>\n",
       "    </tr>\n",
       "  </thead>\n",
       "  <tbody>\n",
       "    <tr>\n",
       "      <th>0</th>\n",
       "      <td>1</td>\n",
       "      <td>0</td>\n",
       "      <td>2008</td>\n",
       "      <td>0.484</td>\n",
       "      <td>0.265</td>\n",
       "      <td>-11.101</td>\n",
       "      <td>0.0322</td>\n",
       "      <td>0.394</td>\n",
       "      <td>0.000000</td>\n",
       "      <td>0.149</td>\n",
       "      <td>...</td>\n",
       "      <td>0</td>\n",
       "      <td>0</td>\n",
       "      <td>0</td>\n",
       "      <td>0</td>\n",
       "      <td>0</td>\n",
       "      <td>0</td>\n",
       "      <td>0</td>\n",
       "      <td>0</td>\n",
       "      <td>1</td>\n",
       "      <td>160</td>\n",
       "    </tr>\n",
       "    <tr>\n",
       "      <th>1</th>\n",
       "      <td>0</td>\n",
       "      <td>0</td>\n",
       "      <td>2020</td>\n",
       "      <td>0.671</td>\n",
       "      <td>0.867</td>\n",
       "      <td>-2.706</td>\n",
       "      <td>0.0571</td>\n",
       "      <td>0.436</td>\n",
       "      <td>0.000000</td>\n",
       "      <td>0.139</td>\n",
       "      <td>...</td>\n",
       "      <td>0</td>\n",
       "      <td>0</td>\n",
       "      <td>0</td>\n",
       "      <td>0</td>\n",
       "      <td>0</td>\n",
       "      <td>0</td>\n",
       "      <td>0</td>\n",
       "      <td>0</td>\n",
       "      <td>1</td>\n",
       "      <td>160</td>\n",
       "    </tr>\n",
       "    <tr>\n",
       "      <th>2</th>\n",
       "      <td>0</td>\n",
       "      <td>0</td>\n",
       "      <td>2008</td>\n",
       "      <td>0.405</td>\n",
       "      <td>0.365</td>\n",
       "      <td>-10.226</td>\n",
       "      <td>0.0289</td>\n",
       "      <td>0.255</td>\n",
       "      <td>0.000005</td>\n",
       "      <td>0.163</td>\n",
       "      <td>...</td>\n",
       "      <td>0</td>\n",
       "      <td>1</td>\n",
       "      <td>0</td>\n",
       "      <td>0</td>\n",
       "      <td>0</td>\n",
       "      <td>0</td>\n",
       "      <td>0</td>\n",
       "      <td>1</td>\n",
       "      <td>0</td>\n",
       "      <td>142</td>\n",
       "    </tr>\n",
       "    <tr>\n",
       "      <th>3</th>\n",
       "      <td>0</td>\n",
       "      <td>0</td>\n",
       "      <td>2008</td>\n",
       "      <td>0.477</td>\n",
       "      <td>0.352</td>\n",
       "      <td>-14.165</td>\n",
       "      <td>0.0300</td>\n",
       "      <td>0.406</td>\n",
       "      <td>0.000000</td>\n",
       "      <td>0.122</td>\n",
       "      <td>...</td>\n",
       "      <td>0</td>\n",
       "      <td>0</td>\n",
       "      <td>0</td>\n",
       "      <td>0</td>\n",
       "      <td>0</td>\n",
       "      <td>0</td>\n",
       "      <td>0</td>\n",
       "      <td>0</td>\n",
       "      <td>1</td>\n",
       "      <td>157</td>\n",
       "    </tr>\n",
       "    <tr>\n",
       "      <th>4</th>\n",
       "      <td>0</td>\n",
       "      <td>0</td>\n",
       "      <td>2018</td>\n",
       "      <td>0.319</td>\n",
       "      <td>0.201</td>\n",
       "      <td>-17.796</td>\n",
       "      <td>0.0623</td>\n",
       "      <td>0.887</td>\n",
       "      <td>0.000000</td>\n",
       "      <td>0.904</td>\n",
       "      <td>...</td>\n",
       "      <td>0</td>\n",
       "      <td>0</td>\n",
       "      <td>1</td>\n",
       "      <td>0</td>\n",
       "      <td>0</td>\n",
       "      <td>0</td>\n",
       "      <td>0</td>\n",
       "      <td>0</td>\n",
       "      <td>1</td>\n",
       "      <td>187</td>\n",
       "    </tr>\n",
       "  </tbody>\n",
       "</table>\n",
       "<p>5 rows × 28 columns</p>\n",
       "</div>"
      ],
      "text/plain": [
       "   popularity  explicit  release_date  danceability  energy  loudness  \\\n",
       "0           1         0          2008         0.484   0.265   -11.101   \n",
       "1           0         0          2020         0.671   0.867    -2.706   \n",
       "2           0         0          2008         0.405   0.365   -10.226   \n",
       "3           0         0          2008         0.477   0.352   -14.165   \n",
       "4           0         0          2018         0.319   0.201   -17.796   \n",
       "\n",
       "   speechiness  acousticness  instrumentalness  liveness  ...  key_5  key_6  \\\n",
       "0       0.0322         0.394          0.000000     0.149  ...      0      0   \n",
       "1       0.0571         0.436          0.000000     0.139  ...      0      0   \n",
       "2       0.0289         0.255          0.000005     0.163  ...      0      1   \n",
       "3       0.0300         0.406          0.000000     0.122  ...      0      0   \n",
       "4       0.0623         0.887          0.000000     0.904  ...      0      0   \n",
       "\n",
       "   key_7  key_8  key_9  key_10  key_11  minor  major  duration  \n",
       "0      0      0      0       0       0      0      1       160  \n",
       "1      0      0      0       0       0      0      1       160  \n",
       "2      0      0      0       0       0      1      0       142  \n",
       "3      0      0      0       0       0      0      1       157  \n",
       "4      1      0      0       0       0      0      1       187  \n",
       "\n",
       "[5 rows x 28 columns]"
      ]
     },
     "execution_count": 4,
     "metadata": {},
     "output_type": "execute_result"
    }
   ],
   "source": [
    "tracks.popularity.describe()\n",
    "mean_popularity = 50\n",
    "tracks[\"popularity\"] = [ 1 if i >= mean_popularity else 0 for i in tracks.popularity ]\n",
    "tracks.head()"
   ]
  },
  {
   "cell_type": "code",
   "execution_count": 5,
   "metadata": {},
   "outputs": [],
   "source": [
    "#tracks['popularity'] = pd.qcut(tracks['popularity'], q=2, labels=[0, 1])\n",
    "\n",
    "X  = tracks.drop(['popularity', 'release_date'], axis=1)\n",
    "y = tracks['popularity']"
   ]
  },
  {
   "cell_type": "code",
   "execution_count": 6,
   "metadata": {},
   "outputs": [
    {
     "name": "stdout",
     "output_type": "stream",
     "text": [
      "CPU times: total: 703 ms\n",
      "Wall time: 703 ms\n"
     ]
    }
   ],
   "source": [
    "%%time\n",
    "\n",
    "from sklearn.feature_selection import SelectPercentile, chi2\n",
    "\n",
    "input_scaler = StandardScaler()\n",
    "X_normalized = input_scaler.fit_transform(X)\n",
    "\n",
    "X_train, X_test, y_train, y_test = train_test_split(\n",
    "    X_normalized, y, test_size=0.20, random_state=42, stratify=y\n",
    ")"
   ]
  },
  {
   "cell_type": "code",
   "execution_count": 7,
   "metadata": {},
   "outputs": [
    {
     "data": {
      "text/plain": [
       "((305033, 26), (76259, 26))"
      ]
     },
     "execution_count": 7,
     "metadata": {},
     "output_type": "execute_result"
    }
   ],
   "source": [
    "X_train.shape, X_test.shape"
   ]
  },
  {
   "cell_type": "code",
   "execution_count": 8,
   "metadata": {},
   "outputs": [
    {
     "name": "stderr",
     "output_type": "stream",
     "text": [
      "<timed exec>:10: FutureWarning: The behavior of `series[i:j]` with an integer-dtype index is deprecated. In a future version, this will be treated as *label-based* indexing, consistent with e.g. `series[i]` lookups. To retain the old behavior, use `series.iloc[i:j]`. To get the future behavior, use `series.loc[i:j]`.\n"
     ]
    }
   ],
   "source": [
    "%%time\n",
    "from sklearn.svm import SVC\n",
    "from sklearn.model_selection import cross_val_score, cross_val_predict, StratifiedKFold\n",
    "from sklearn.metrics import confusion_matrix, precision_score, recall_score, f1_score, classification_report\n",
    "from joblib import dump\n",
    "\n",
    "\n",
    "svm = SVC(kernel='linear',\n",
    "          C=1000,\n",
    "          random_state=42)\n",
    "svm.fit(X_train[:10000], y_train[:10000])\n",
    "dump(svm, \"mlspotify_SVM\")\n",
    "\n",
    "print(\"Train accuracy of svm algo:\", svm.score(X_train[:10000], y_train[:10000]))\n",
    "print(\"Test accuracy of svm algo:\", svm.score(X_test, y_test))\n",
    "\n"
   ]
  },
  {
   "cell_type": "code",
   "execution_count": null,
   "metadata": {},
   "outputs": [],
   "source": [
    "y_pred = svm.predict(X_test)\n",
    "print(confusion_matrix(y_test, y_pred))\n",
    "print(\"Classification report\\n\")\n",
    "print(classification_report(y_test, y_pred))\n",
    "     "
   ]
  }
 ],
 "metadata": {
  "kernelspec": {
   "display_name": "Python 3",
   "language": "python",
   "name": "python3"
  },
  "language_info": {
   "codemirror_mode": {
    "name": "ipython",
    "version": 3
   },
   "file_extension": ".py",
   "mimetype": "text/x-python",
   "name": "python",
   "nbconvert_exporter": "python",
   "pygments_lexer": "ipython3",
   "version": "3.9.0"
  },
  "orig_nbformat": 4,
  "vscode": {
   "interpreter": {
    "hash": "81641c67de13ba2ac8c07230d8e9c3d689814f020f16a0be10c4cdd4d54f6ca6"
   }
  }
 },
 "nbformat": 4,
 "nbformat_minor": 2
}
